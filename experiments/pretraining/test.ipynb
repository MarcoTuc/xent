{
 "cells": [
  {
   "cell_type": "code",
   "execution_count": 1,
   "metadata": {},
   "outputs": [],
   "source": [
    "%load_ext autoreload\n",
    "%autoreload 2\n",
    "import os\n",
    "os.chdir(\"./../\")"
   ]
  },
  {
   "cell_type": "code",
   "execution_count": 2,
   "metadata": {},
   "outputs": [],
   "source": [
    "from tqdm import tqdm\n",
    "import datasets\n",
    "import torch\n",
    "from datasets import load_dataset\n",
    "from xent import M\n",
    "from xent.datasets import SynthProcessor"
   ]
  },
  {
   "cell_type": "code",
   "execution_count": 10,
   "metadata": {},
   "outputs": [
    {
     "name": "stdout",
     "output_type": "stream",
     "text": [
      "tokenizer path: /rcp/marco/models/base/gpt2-xl/M0\n",
      "model path: /rcp/marco/models/base/gpt2-xl/M0\n"
     ]
    },
    {
     "data": {
      "application/vnd.jupyter.widget-view+json": {
       "model_id": "fb931175f96e4ae9ba6e8bb6653873c0",
       "version_major": 2,
       "version_minor": 0
      },
      "text/plain": [
       "Loading checkpoint shards:   0%|          | 0/2 [00:00<?, ?it/s]"
      ]
     },
     "metadata": {},
     "output_type": "display_data"
    }
   ],
   "source": [
    "model = M(\"base\", \"gpt2-xl\", \"M0\")"
   ]
  },
  {
   "cell_type": "code",
   "execution_count": null,
   "metadata": {},
   "outputs": [
    {
     "name": "stderr",
     "output_type": "stream",
     "text": [
      "Loading data files:  12%|█▎        | 2/16 [00:02<00:16,  1.17s/it]\n"
     ]
    },
    {
     "ename": "KeyboardInterrupt",
     "evalue": "",
     "output_type": "error",
     "traceback": [
      "\u001b[0;31m---------------------------------------------------------------------------\u001b[0m",
      "\u001b[0;31mKeyboardInterrupt\u001b[0m                         Traceback (most recent call last)",
      "Cell \u001b[0;32mIn[4], line 1\u001b[0m\n\u001b[0;32m----> 1\u001b[0m train_set \u001b[38;5;241m=\u001b[39m \u001b[43mSynthProcessor\u001b[49m\u001b[43m(\u001b[49m\n\u001b[1;32m      2\u001b[0m \u001b[43m    \u001b[49m\u001b[43mbase\u001b[49m\u001b[38;5;241;43m=\u001b[39;49m\u001b[38;5;124;43m\"\u001b[39;49m\u001b[38;5;124;43mwiki90-tok\u001b[39;49m\u001b[38;5;124;43m\"\u001b[39;49m\u001b[43m,\u001b[49m\n\u001b[1;32m      3\u001b[0m \u001b[43m    \u001b[49m\u001b[43mdataset_name\u001b[49m\u001b[38;5;241;43m=\u001b[39;49m\u001b[38;5;124;43m\"\u001b[39;49m\u001b[38;5;124;43mtrain\u001b[39;49m\u001b[38;5;124;43m\"\u001b[39;49m\n\u001b[1;32m      4\u001b[0m \u001b[43m)\u001b[49m\u001b[38;5;241m.\u001b[39mdataset\n\u001b[1;32m      6\u001b[0m test_set \u001b[38;5;241m=\u001b[39m SynthProcessor(\n\u001b[1;32m      7\u001b[0m     base\u001b[38;5;241m=\u001b[39m\u001b[38;5;124m\"\u001b[39m\u001b[38;5;124mwiki90-tok\u001b[39m\u001b[38;5;124m\"\u001b[39m,\n\u001b[1;32m      8\u001b[0m     dataset_name\u001b[38;5;241m=\u001b[39m\u001b[38;5;124m\"\u001b[39m\u001b[38;5;124mtest\u001b[39m\u001b[38;5;124m\"\u001b[39m\n\u001b[1;32m      9\u001b[0m )\u001b[38;5;241m.\u001b[39mdataset\n",
      "File \u001b[0;32m~/xent-futurarium/xent/datasets.py:85\u001b[0m, in \u001b[0;36mSynthProcessor.__init__\u001b[0;34m(self, base, dataset_name, train_split, split_posit, cut_dataset, cut_trainset, files_to_load)\u001b[0m\n\u001b[1;32m     81\u001b[0m     \u001b[38;5;28mself\u001b[39m\u001b[38;5;241m.\u001b[39mtrain_set \u001b[38;5;241m=\u001b[39m \u001b[38;5;28mself\u001b[39m\u001b[38;5;241m.\u001b[39mtrain_set[:cut_trainset]\n\u001b[1;32m     83\u001b[0m \u001b[38;5;28mself\u001b[39m\u001b[38;5;241m.\u001b[39mfiles_to_load \u001b[38;5;241m=\u001b[39m files_to_load\n\u001b[0;32m---> 85\u001b[0m \u001b[38;5;28mself\u001b[39m\u001b[38;5;241m.\u001b[39mdataset \u001b[38;5;241m=\u001b[39m \u001b[38;5;28;43mself\u001b[39;49m\u001b[38;5;241;43m.\u001b[39;49m\u001b[43mload_pickled_dataset\u001b[49m\u001b[43m(\u001b[49m\u001b[43m)\u001b[49m\n",
      "File \u001b[0;32m~/xent-futurarium/xent/datasets.py:95\u001b[0m, in \u001b[0;36mSynthProcessor.load_pickled_dataset\u001b[0;34m(self)\u001b[0m\n\u001b[1;32m     93\u001b[0m     \u001b[38;5;28;01mwith\u001b[39;00m \u001b[38;5;28mopen\u001b[39m(os\u001b[38;5;241m.\u001b[39mpath\u001b[38;5;241m.\u001b[39mjoin(\u001b[38;5;28mself\u001b[39m\u001b[38;5;241m.\u001b[39m_path, \u001b[38;5;124mf\u001b[39m\u001b[38;5;124m\"\u001b[39m\u001b[38;5;132;01m{\u001b[39;00mfile\u001b[38;5;132;01m}\u001b[39;00m\u001b[38;5;124m\"\u001b[39m), \u001b[38;5;124m\"\u001b[39m\u001b[38;5;124mrb\u001b[39m\u001b[38;5;124m\"\u001b[39m) \u001b[38;5;28;01mas\u001b[39;00m data:\n\u001b[1;32m     94\u001b[0m         \u001b[38;5;28;01mif\u001b[39;00m \u001b[38;5;28mself\u001b[39m\u001b[38;5;241m.\u001b[39m_info[\u001b[38;5;124m\"\u001b[39m\u001b[38;5;124mdata_type\u001b[39m\u001b[38;5;124m\"\u001b[39m] \u001b[38;5;241m==\u001b[39m \u001b[38;5;124m\"\u001b[39m\u001b[38;5;124mtokens\u001b[39m\u001b[38;5;124m\"\u001b[39m: output\u001b[38;5;241m.\u001b[39mappend(pickle\u001b[38;5;241m.\u001b[39mload(data)\u001b[38;5;241m.\u001b[39mto(\u001b[38;5;124m\"\u001b[39m\u001b[38;5;124mcpu\u001b[39m\u001b[38;5;124m\"\u001b[39m)) \u001b[38;5;66;03m# safety measure since many guys are initialized to be on the gpu (my bad)\u001b[39;00m\n\u001b[0;32m---> 95\u001b[0m         \u001b[38;5;28;01melif\u001b[39;00m \u001b[38;5;28mself\u001b[39m\u001b[38;5;241m.\u001b[39m_info[\u001b[38;5;124m\"\u001b[39m\u001b[38;5;124mdata_type\u001b[39m\u001b[38;5;124m\"\u001b[39m] \u001b[38;5;241m==\u001b[39m \u001b[38;5;124m\"\u001b[39m\u001b[38;5;124mlist\u001b[39m\u001b[38;5;124m\"\u001b[39m: output\u001b[38;5;241m.\u001b[39mextend(\u001b[43mpickle\u001b[49m\u001b[38;5;241;43m.\u001b[39;49m\u001b[43mload\u001b[49m\u001b[43m(\u001b[49m\u001b[43mdata\u001b[49m\u001b[43m)\u001b[49m\u001b[38;5;241;43m.\u001b[39;49m\u001b[43mto\u001b[49m\u001b[43m(\u001b[49m\u001b[38;5;124;43m\"\u001b[39;49m\u001b[38;5;124;43mcpu\u001b[39;49m\u001b[38;5;124;43m\"\u001b[39;49m\u001b[43m)\u001b[49m)\n\u001b[1;32m     96\u001b[0m \u001b[38;5;28;01mif\u001b[39;00m \u001b[38;5;28mself\u001b[39m\u001b[38;5;241m.\u001b[39m_info[\u001b[38;5;124m\"\u001b[39m\u001b[38;5;124mdata_type\u001b[39m\u001b[38;5;124m\"\u001b[39m] \u001b[38;5;241m==\u001b[39m \u001b[38;5;124m\"\u001b[39m\u001b[38;5;124mtokens\u001b[39m\u001b[38;5;124m\"\u001b[39m: output \u001b[38;5;241m=\u001b[39m torch\u001b[38;5;241m.\u001b[39mcat(output)\n\u001b[1;32m     97\u001b[0m \u001b[38;5;28mself\u001b[39m\u001b[38;5;241m.\u001b[39mn_samples \u001b[38;5;241m=\u001b[39m \u001b[38;5;28mlen\u001b[39m(output)\n",
      "\u001b[0;31mKeyboardInterrupt\u001b[0m: "
     ]
    }
   ],
   "source": [
    "train_set = SynthProcessor(\n",
    "    base=\"wiki90-tok\",\n",
    "    dataset_name=\"train\"\n",
    ").dataset\n",
    "\n",
    "test_set = SynthProcessor(\n",
    "    base=\"wiki90-tok\",\n",
    "    dataset_name=\"test\"\n",
    ").dataset\n"
   ]
  },
  {
   "cell_type": "code",
   "execution_count": null,
   "metadata": {},
   "outputs": [],
   "source": [
    "train_set = torch.cat(train_set, dim=-1)\n",
    "test_set = torch.cat(test_set, dim=-1)"
   ]
  },
  {
   "cell_type": "code",
   "execution_count": null,
   "metadata": {},
   "outputs": [],
   "source": [
    "class WikiTrain(Dataset):\n",
    "    def __init__(self, tensor, ctx=1024):\n",
    "        self.data = tensor\n",
    "        self.ctx = ctx\n",
    "        self.length = tensor.shape[0] - ctx + 1\n",
    "    \n",
    "    def __len__(self):\n",
    "        return self.length\n",
    "    \n",
    "    def __getitem__(self, idx):\n",
    "        idx = torch.randint(0, self.length, (1,)).item()\n",
    "        chunk = self.data[idx:idx+self.ctx]\n",
    "        return chunk "
   ]
  },
  {
   "cell_type": "code",
   "execution_count": 9,
   "metadata": {},
   "outputs": [],
   "source": [
    "import pickle\n",
    "path = \"/rcp/marco/data/wiki90-tok/train\"\n",
    "data_files = [f for f in os.listdir(path) if f.endswith(\".pkl\")]\n",
    "data = []\n",
    "for file in data_files: \n",
    "    data.append(pickle.load(open(os.path.join(path, file), \"rb\")))\n"
   ]
  },
  {
   "cell_type": "code",
   "execution_count": 7,
   "metadata": {},
   "outputs": [
    {
     "data": {
      "text/plain": [
       "[tensor([[ 2025,   998,  1042,  ...,  4687,  5221, 26770]], device='cuda:1'),\n",
       " tensor([[  33,  403, 6248,  ...,  262, 1578, 1829]], device='cuda:1'),\n",
       " tensor([[  818,  7096,    78,  ...,  3854,  3961, 12829]], device='cuda:1'),\n",
       " tensor([[  198,   198, 37103,  ..., 25631,   762,  5753]], device='cuda:1'),\n",
       " tensor([[   40,  4450,   357,  ...,    11, 17711, 32586]], device='cuda:1'),\n",
       " tensor([[   43,   377,   620,  ...,   330,   198, 33006]], device='cuda:1'),\n",
       " tensor([[  464,   968, 13643,  ..., 27543,  1813,  3891]], device='cuda:1'),\n",
       " tensor([[  818,  9156,   290,  ...,   287,  1471, 13808]], device='cuda:1'),\n",
       " tensor([[ 7004,    83, 30540,  ..., 29155,  9229,  5270]], device='cuda:1'),\n",
       " tensor([[26979,  1136,  3699,  ..., 24402,   198,  6999]], device='cuda:1'),\n",
       " tensor([[17688,   642,  2780,  ..., 43293, 28150,  1023]], device='cuda:1'),\n",
       " tensor([[15946,  1939,   316,  ...,   286,  1918,  4814]], device='cuda:1'),\n",
       " tensor([[   32,  3108,   318,  ..., 16775,  4881,  6685]], device='cuda:1'),\n",
       " tensor([[  464, 14332,  2305,  ...,   968,  2520, 11769]], device='cuda:1'),\n",
       " tensor([[ 464, 8999,  268,  ...,  422, 1813, 3891]], device='cuda:1'),\n",
       " tensor([[   37,  7780,    72,  ..., 10530,  7043,   418]], device='cuda:1')]"
      ]
     },
     "execution_count": 7,
     "metadata": {},
     "output_type": "execute_result"
    }
   ],
   "source": [
    "data"
   ]
  }
 ],
 "metadata": {
  "kernelspec": {
   "display_name": "menv",
   "language": "python",
   "name": "python3"
  },
  "language_info": {
   "codemirror_mode": {
    "name": "ipython",
    "version": 3
   },
   "file_extension": ".py",
   "mimetype": "text/x-python",
   "name": "python",
   "nbconvert_exporter": "python",
   "pygments_lexer": "ipython3",
   "version": "3.10.12"
  }
 },
 "nbformat": 4,
 "nbformat_minor": 2
}
