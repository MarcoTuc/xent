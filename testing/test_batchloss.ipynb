{
 "cells": [
  {
   "cell_type": "code",
   "execution_count": 1,
   "metadata": {},
   "outputs": [],
   "source": [
    "%load_ext autoreload\n",
    "%autoreload 2\n",
    "import os\n",
    "os.chdir(\"../\")"
   ]
  },
  {
   "cell_type": "code",
   "execution_count": 2,
   "metadata": {},
   "outputs": [],
   "source": [
    "from xent.dataprocessing import SynthProcessor\n",
    "from xent.config import *\n",
    "from xent.models import M\n",
    "from xent.trainer import Trainer\n",
    "\n",
    "from torch.optim import AdamW"
   ]
  },
  {
   "cell_type": "code",
   "execution_count": 3,
   "metadata": {},
   "outputs": [],
   "source": [
    "\n",
    "\n",
    "task_name = \"closure\"\n",
    "data_version = \"D0-correct\"\n",
    "cut_dataset = None\n",
    "train_split = 0.5\n",
    "\n",
    "synthdata = SynthProcessor(\n",
    "            task_name, \n",
    "            data_version, \n",
    "            train_split=train_split, \n",
    "            cut_dataset=cut_dataset\n",
    "            )"
   ]
  },
  {
   "cell_type": "code",
   "execution_count": 4,
   "metadata": {},
   "outputs": [],
   "source": [
    "model = M(\"gpt2\", \"M0\", \"base\")\n",
    "optim = AdamW(model.model.parameters())\n",
    "trainer = Trainer(\n",
    "    model, synthdata, optim, 2\n",
    ")"
   ]
  },
  {
   "cell_type": "code",
   "execution_count": 5,
   "metadata": {},
   "outputs": [],
   "source": [
    "tloader = trainer.train_loader"
   ]
  },
  {
   "cell_type": "code",
   "execution_count": 6,
   "metadata": {},
   "outputs": [],
   "source": [
    "datum = next(iter(trainer.train_loader)).to(device)"
   ]
  },
  {
   "cell_type": "code",
   "execution_count": 7,
   "metadata": {},
   "outputs": [
    {
     "name": "stderr",
     "output_type": "stream",
     "text": [
      "We strongly recommend passing in an `attention_mask` since your input_ids may be padded. See https://huggingface.co/docs/transformers/troubleshooting#incorrect-output-when-padding-tokens-arent-masked.\n",
      "You may ignore this warning if your `pad_token_id` (50256) is identical to the `bos_token_id` (50256), `eos_token_id` (50256), or the `sep_token_id` (None), and your input is not padded.\n"
     ]
    }
   ],
   "source": [
    "logits = model.model(datum).logits"
   ]
  },
  {
   "cell_type": "code",
   "execution_count": 12,
   "metadata": {},
   "outputs": [
    {
     "name": "stdout",
     "output_type": "stream",
     "text": [
      " 3 13 2 8 6 7 5 1 8 4 2 6 1 8 9 6 8 2 5 0 9 2 6 10 8 5 2 8 6 6 9 1 1 0 7 6 6 2 6 0 3 9 7 3 10 1 1 6 3 4 1 1 0 7 4 4 3 3 10 2 1 0 3 9 1 0 2 8 4 1 2 1 4 8 2 0 3 1 9 1 7 9 1 7 2 1 4 1 1 0 2 8 6 1 0 2 1 4 7 1 3 4 2 1 1 4 3 0 0 1 5 0 6 0 5 5 1 6 8 2 0 1 3 1 1 8 3 5 6 9 8 1 3 4 2 8 4 1 0 7 5 1 2 0 1 3 2 1 0 1 3 8 3 2 3 4 3 3 7 1 0 3 3 0 0 0 0 6 3 3 1 1 7 2 6 6 3 3 6 1 8 4 3 1 4 2 1 3 9 0 5 6 7 3 2 3 3 1 12 0 0\n",
      "\n",
      "---------------------------\n",
      "\n",
      " 3 13 2 8 6 7 5 1 8 4 2 6 1 8 9 6 8 2 5 0 9 2 6 10 8 5 2 8 6 6 9 1 1 0 7 6 6 2 6 0 3 9 7 3 10 1 1 6 3 4 1 1 0 7 4 4 3 3 10 2 1 0 3 9 1 0 2 8 4 1 2 1 4 8 2 0 3 1 9 1 7 9 1 7 2 1 4 1 1 0 2 8 6 1 0 2 1 4 7 1 3 4 2 1 1 4 3 0 0 1 5 0 6 0 5 5 1 6 8 2 0 1 3 1 1 8 3 5 6 9 8 1 3 4 2 8 4 1 0 7 5 1 2 0 1 3 2 1 0 1 3 8 3 2 3 4 3 3 7 1 0 3 3 0 0 0 0 6 3 3 1 1 7 2 6 6 3 3 6 1 8 4 3 1 4 2 1 3 9 0 5 6 7 3 2 3 3 1 12 0 0\n",
      "torch.Size([2, 1024, 50257])\n"
     ]
    },
    {
     "data": {
      "text/plain": [
       "tensor(5.4455, device='cuda:1', grad_fn=<DivBackward0>)"
      ]
     },
     "execution_count": 12,
     "metadata": {},
     "output_type": "execute_result"
    },
    {
     "ename": "",
     "evalue": "",
     "output_type": "error",
     "traceback": [
      "\u001b[1;31mThe Kernel crashed while executing code in the current cell or a previous cell. \n",
      "\u001b[1;31mPlease review the code in the cell(s) to identify a possible cause of the failure. \n",
      "\u001b[1;31mClick <a href='https://aka.ms/vscodeJupyterKernelCrash'>here</a> for more info. \n",
      "\u001b[1;31mView Jupyter <a href='command:jupyter.viewOutput'>log</a> for further details."
     ]
    }
   ],
   "source": [
    "trainer.compute_batch_loss(logits, datum)"
   ]
  }
 ],
 "metadata": {
  "kernelspec": {
   "display_name": "menv",
   "language": "python",
   "name": "python3"
  },
  "language_info": {
   "codemirror_mode": {
    "name": "ipython",
    "version": 3
   },
   "file_extension": ".py",
   "mimetype": "text/x-python",
   "name": "python",
   "nbconvert_exporter": "python",
   "pygments_lexer": "ipython3",
   "version": "3.10.12"
  }
 },
 "nbformat": 4,
 "nbformat_minor": 2
}
