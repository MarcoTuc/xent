{
 "cells": [
  {
   "cell_type": "code",
   "execution_count": 1,
   "metadata": {},
   "outputs": [],
   "source": [
    "%load_ext autoreload\n",
    "%autoreload 2\n",
    "import os\n",
    "os.chdir(\"../\")"
   ]
  },
  {
   "cell_type": "code",
   "execution_count": 2,
   "metadata": {},
   "outputs": [],
   "source": [
    "from xent import M, device\n",
    "from xent.datasets import Wikipedia\n",
    "from xent.tasks import Closure\n",
    "\n",
    "from datasets import load_dataset"
   ]
  },
  {
   "cell_type": "code",
   "execution_count": 3,
   "metadata": {},
   "outputs": [],
   "source": [
    "model = M(\"gpt2\", \"M0\")\n",
    "task = Closure(model)"
   ]
  },
  {
   "cell_type": "code",
   "execution_count": 4,
   "metadata": {},
   "outputs": [
    {
     "data": {
      "application/vnd.jupyter.widget-view+json": {
       "model_id": "5840420697964ffd9db8600321c1e7b0",
       "version_major": 2,
       "version_minor": 0
      },
      "text/plain": [
       "Loading dataset shards:   0%|          | 0/41 [00:00<?, ?it/s]"
      ]
     },
     "metadata": {},
     "output_type": "display_data"
    }
   ],
   "source": [
    "data = load_dataset(\n",
    "    \"wikipedia\", \n",
    "    \"20220301.en\", \n",
    "    trust_remote_code=True,\n",
    "    )[\"train\"]"
   ]
  },
  {
   "cell_type": "code",
   "execution_count": 10,
   "metadata": {},
   "outputs": [],
   "source": [
    "import torch\n",
    "generated = torch.LongTensor([]).to(device)\n",
    "for n in range(1):\n",
    "    get_data = lambda: data[n][\"text\"]\n",
    "    output = task.generate_parallel_parallel(get_data)"
   ]
  },
  {
   "cell_type": "code",
   "execution_count": 11,
   "metadata": {},
   "outputs": [
    {
     "name": "stdout",
     "output_type": "stream",
     "text": [
      "Anarchism is a political philosophy and movement that is sceptical of authority and rejects all involuntary, coercive forms of hierarchy. Anarchism calls for the abolition of the state, which it holds to be unnecessary, undesirable, and harmful. As a historically left-wing movement, placed on the farthest left of the political spectrum, it is usually described alongside communalism and libertarian Marxism as the libertarian wing (libertarian socialism) of the socialist movement, and has a strong historical association with anti-capitalism and socialism.\n",
      "\n",
      "Humans lived in societies without formal hierarchies long before the establishment of formal states, realms, or empires. With the rise of organised hierarchical bodies, scepticism toward authority also rose. Although traces of anarchist thought are found throughout history, modern anarchism emerged from the Enlightenment. During the latter half of the 19th and the first decades of the 20th century, the anarchist movement flourished in most parts of the world and had a significant role in workers' struggles for emancipation. Various anarchist\n",
      "@##$$##@ xent_rank(())>:ç%ç>:\n",
      " realms 3; placed 3; involuntary 3; scept 3; scept 3; fart 3; traces 3; workers 3; communal 3;Hum 2; historically 2;arch 2; alongside 2; long 2; hierarchical 2; lived 2; Marxism 2; Various 2; undesirable 2; left 2; organised 2; usually 2; libertarian 2; also 2; emerged 2; establishment 2; holds 2; latter 1; During 1; toward 1; ( 1;liber 1; bodies 1; association 1; With 1; modern 1; unnecessary 1; calls 1; wing 1; empires 1; anti 1; most 1; movement 1; socialist 1; hierarchy 1; anarchist 1; states 1; Although 1; historical 1; authority 1; flourished 1; rose 1; Enlightenment 1; As 1; the 1; has 1; decades 1; described 1; first 1; emancipation 1; rejects 1; formal 1; without 1; had 1; socialism 1; and 1;, 1; libertarian 1; societies 1; role 1; political 1; anarchist 1; which 1; is 1; socialism 1; all 1; hierarch 1; forms 1; for 1; formal 1; coercive 1; significant 1; and 1; and 1;capital 1; anarchist 1;. 1; harmful 1; it 1; parts 1; a 1;) 1;ism 1; found 1;, 1; strong 1; on 1; the 1; a 1; anarchism 1; are 0; as 0; philosophy 0; rise 0; state 0; throughout 0;, 0; the 0; and 0; the 0;, 0; is 0; struggles 0; political 0; a 0; Anarch 0; is 0;, 0; the 0; it 0; or 0; history 0; in 0; authority 0; and 0; and 0; the 0;\n",
      " 0; abolition 0; the 0; that 0;, 0;. 0; from 0; of 0; to 0; movement 0; the 0; thought 0;, 0;. 0; and 0; a 0; of 0; the 0; in 0;ism 0;, 0; the 0; the 0; movement 0;. 0;. 0;- 0; 19 0; left 0;ism 0;icism 0; half 0; and 0; in 0; for 0;wing 0;' 0;. 0;, 0; the 0;. 0; movement 0; world 0;ans 0; the 0; of 0; before 0;, 0;, 0; century 0;, 0;tarian 0;ism 0;- 0; be 0; of 0; the 0; 20 0; spectrum 0;ical 0; of 0; with 0; of 0; of 0; of 0; of 0; the 0;ies 0;\n",
      " 0; of 0; of 0;th 0;th 0;hest 0;\n"
     ]
    },
    {
     "ename": "",
     "evalue": "",
     "output_type": "error",
     "traceback": [
      "\u001b[1;31mThe Kernel crashed while executing code in the current cell or a previous cell. \n",
      "\u001b[1;31mPlease review the code in the cell(s) to identify a possible cause of the failure. \n",
      "\u001b[1;31mClick <a href='https://aka.ms/vscodeJupyterKernelCrash'>here</a> for more info. \n",
      "\u001b[1;31mView Jupyter <a href='command:jupyter.viewOutput'>log</a> for further details."
     ]
    }
   ],
   "source": [
    "print(model.detokenize(output[\"xent_rank_top\"][0]))"
   ]
  },
  {
   "cell_type": "code",
   "execution_count": null,
   "metadata": {},
   "outputs": [
    {
     "name": "stdout",
     "output_type": "stream",
     "text": [
      " realms placed involuntary scept scept fart traces workers communalHum historicallyarch alongside long hierarchical lived Marxism Various undesirable left organised usually libertarian also emerged establishment holds latter During toward (liber bodies association With modern unnecessary calls wing empires anti most movement socialist hierarchy anarchist states Although historical authority flourished rose Enlightenment As the has decades described first emancipation rejects formal without had socialism and, libertarian societies role political anarchist which is socialism all hierarch forms for formal coercive significant and andcapital anarchist. harmful it parts a)ism found, strong on the a anarchism are as philosophy rise state throughout, the and the, is struggles political a Anarch is, the it or history in authority and and the\n",
      " abolition the that,. from of to movement the thought,. and a of the inism, the the movement..- 19 leftismicism half and in forwing'., the. movement worldans the of before,, century,tarianism- be of the 20 spectrumical of with of of of of theies\n",
      " of ofththhest\n",
      "torch.Size([201, 1])\n",
      "torch.Size([201, 3])\n",
      "torch.Size([201, 1])\n",
      " realms 13.83; placed 13.80; involuntary 13.38; scept 12.68; scept 12.39; fart 11.09; traces 10.94; workers 10.70; communal 10.23;Hum 9.79; historically 9.57;arch 9.55; alongside 8.70; long 8.41; hierarchical 8.28; lived 8.05; Marxism 7.57; Various 7.35; undesirable 7.33; left 7.31; organised 7.26; usually 6.60; libertarian 6.49; also 6.47; emerged 6.11; establishment 6.06; holds 6.04; latter 5.99; During 5.92; toward 5.88; ( 5.79;liber 5.76; bodies 5.72; association 5.71; With 5.70; modern 5.70; unnecessary 5.47; calls 5.31; wing 5.30; empires 5.14; anti 5.13; most 5.13; movement 4.97; socialist 4.94; hierarchy 4.92; anarchist 4.82; states 4.76; Although 4.63; historical 4.53; authority 4.51; flourished 4.51; rose 4.43; Enlightenment 4.39; As 4.38; the 4.36; has 4.32; decades 4.32; described 4.28; first 4.28; emancipation 4.26; rejects 4.20; formal 4.15; without 4.05; had 4.04; socialism 3.96; and 3.85;, 3.82; libertarian 3.68; societies 3.47; role 3.41; political 3.38; anarchist 3.35; which 3.19; is 3.15; socialism 3.14; all 3.07; hierarch 2.92; forms 2.86; for 2.85; formal 2.85; coercive 2.79; significant 2.79; and 2.78; and 2.73;capital 2.73; anarchist 2.70;. 2.64; harmful 2.60; it 2.57; parts 2.55; a 2.49;) 2.45;ism 2.36; found 2.36;, 2.35; strong 2.21; on 2.19; the 2.13; a 2.13; anarchism 2.05; are 2.00; as 1.98; philosophy 1.97; rise 1.97; state 1.94; throughout 1.93;, 1.92; the 1.88; and 1.87; the 1.85;, 1.83; is 1.77; struggles 1.76; political 1.73; a 1.73; Anarch 1.70; is 1.68;, 1.66; the 1.57; it 1.54; or 1.52; history 1.51; in 1.51; authority 1.43; and 1.42; and 1.34; the 1.30;\n",
      " 1.28; abolition 1.28; the 1.26; that 1.26;, 1.26;. 1.25; from 1.21; of 1.17; to 1.16; movement 1.12; the 1.11; thought 1.09;, 1.06;. 1.05; and 1.03; a 1.01; of 1.00; the 0.96; in 0.94;ism 0.90;, 0.89; the 0.88; the 0.85; movement 0.82;. 0.79;. 0.78;- 0.76; 19 0.75; left 0.66;ism 0.64;icism 0.54; half 0.51; and 0.50; in 0.50; for 0.42;wing 0.40;' 0.38;. 0.38;, 0.37; the 0.34;. 0.34; movement 0.32; world 0.31;ans 0.27; the 0.23; of 0.23; before 0.20;, 0.20;, 0.18; century 0.18;, 0.13;tarian 0.09;ism 0.07;- 0.07; be 0.06; of 0.05; the 0.04; 20 0.04; spectrum 0.03;ical 0.03; of 0.02; with 0.02; of 0.02; of 0.01; of 0.01; of 0.01; the 0.00;ies 0.00;\n",
      " 0.00; of 0.00; of 0.00;th 0.00;th 0.00;hest 0.00;\n"
     ]
    }
   ],
   "source": [
    "rxent, sort, semicolon = output\n",
    "semicolon = semicolon.squeeze(0)\n",
    "lins = torch.cat([model.tokenize(f\" {x:.2f}\").input_ids for x in rxent])\n",
    "print(model.detokenize(sort))\n",
    "\n",
    "sort = sort.view(sort.shape[0],1)\n",
    "\n",
    "sortandxent = torch.cat([sort[0], lins[0], semicolon])\n",
    "\n",
    "sort = torch.cat([sort, lins, semicolon.repeat(lins.shape[0], 1)], dim=1)\n",
    "\n",
    "print(model.detokenize(sort.view(-1)))\n",
    "\n",
    "# for i in range(1, len(sort)):\n",
    "#     sortandxent = torch.cat([sortandxent, sort[i], lins[i], semicolon])"
   ]
  },
  {
   "cell_type": "code",
   "execution_count": null,
   "metadata": {},
   "outputs": [
    {
     "data": {
      "text/plain": [
       "tensor([1.1230, 1.1200, 2.1230, 2.1200, 3.1230, 3.1200])"
      ]
     },
     "execution_count": 46,
     "metadata": {},
     "output_type": "execute_result"
    }
   ],
   "source": [
    "import torch\n",
    "\n",
    "t = torch.Tensor([1.123,2.123,3.123])\n",
    "\n",
    "s = [f\" {round(float(x), ndigits=2)}\" for x in t]\n",
    "i = torch.Tensor([float(x) for x in s])\n",
    "\n",
    "t = torch.repeat_interleave(t, 2)\n",
    "t[1::2] = i\n",
    "\n",
    "t"
   ]
  },
  {
   "cell_type": "code",
   "execution_count": null,
   "metadata": {},
   "outputs": [
    {
     "name": "stdout",
     "output_type": "stream",
     "text": [
      "Anarchism is a political philosophy and movement that is sceptical of authority and rejects all involuntary, coercive forms of hierarchy. Anarchism calls for the abolition of the state, which it holds to be unnecessary, undesirable, and harmful. As a historically left-wing movement, placed on the farthest left of the political spectrum, it is usually described alongside communalism and libertarian Marxism as the libertarian wing (libertarian socialism) of the socialist movement, and has a strong historical association with anti-capitalism and socialism.\n",
      "\n",
      "Humans lived in societies without formal hierarchies long before the establishment of formal states, realms, or empires. With the rise of organised hierarchical bodies, scepticism toward authority also rose. Although traces of anarchist thought are found throughout history, modern anarchism emerged from the Enlightenment. During the latter half of the 19th and the first decades of the 20th century, the anarchist movement flourished in most parts of the world and had a significant role in workers' struggles for emancipation. Various anarchist\n",
      "@##$$##@ xent_rank(())>:ç%ç>:\n",
      " realms;; placed;; involuntary;; scept;; scept;; fart;; traces;; workers;; communal;;Hum;; historically;;arch;; alongside;; long;; hierarchical;; lived;; Marxism;; Various;; undesirable;; left;; organised;; usually;; libertarian;; also;; emerged;; establishment;; holds;; latter;; During;; toward;; (;;liber;; bodies;; association;; With;; modern;; unnecessary;; calls;; wing;; empires;; anti;; most;; movement;; socialist;; hierarchy;; anarchist;; states;; Although;; historical;; authority;; flourished;; rose;; Enlightenment;; As;; the;; has;; decades;; described;; first;; emancipation;; rejects;; formal;; without;; had;; socialism;; and;;,;; libertarian;; societies;; role;; political;; anarchist;; which;; is;; socialism;; all;; hierarch;; forms;; for;; formal;; coercive;; significant;; and;; and;;capital;; anarchist;;.;; harmful;; it;; parts;; a;;);;ism;; found;;,;; strong;; on;; the;; a;; anarchism;; are;; as;; philosophy;; rise;; state;; throughout;;,;; the;; and;; the;;,;; is;; struggles;; political;; a;; Anarch;; is;;,;; the;; it;; or;; history;; in;; authority;; and;; and;; the;;\n",
      ";; abolition;; the;; that;;,;;.;; from;; of;; to;; movement;; the;; thought;;,;;.;; and;; a;; of;; the;; in;;ism;;,;; the;; the;; movement;;.;;.;;-;; 19;; left;;ism;;icism;; half;; and;; in;; for;;wing;;';;.;;,;; the;;.;; movement;; world;;ans;; the;; of;; before;;,;;,;; century;;,;;tarian;;ism;;-;; be;; of;; the;; 20;; spectrum;;ical;; of;; with;; of;; of;; of;; of;; the;;ies;;\n",
      ";; of;; of;;th;;th;;hest;;\n"
     ]
    }
   ],
   "source": [
    "print(model.detokenize(output[-1][0]))"
   ]
  },
  {
   "cell_type": "code",
   "execution_count": null,
   "metadata": {},
   "outputs": [
    {
     "name": "stdout",
     "output_type": "stream",
     "text": [
      "Anarchism is a political philosophy and movement that is sceptical of authority and rejects all involuntary, coercive forms of hierarchy. Anarchism calls for the abolition of the state, which it holds to be unnecessary, undesirable, and harmful. As a historically left-wing movement, placed on the farthest left of the political spectrum, it is usually described alongside communalism and libertarian Marxism as the libertarian wing (libertarian socialism) of the socialist movement, and has a strong historical association with anti-capitalism and socialism.\n",
      "\n",
      "Humans lived in societies without formal hierarchies long before the establishment of formal states, realms, or empires. With the rise of organised hierarchical bodies, scepticism toward authority also rose. Although traces of anarchist thought are found throughout history, modern anarchism emerged from the Enlightenment. During the latter half of the 19th and the first decades of the 20th century, the anarchist movement flourished in most parts of the world and had a significant role in workers' struggles for emancipation. Various anarchist\n",
      "@##$$##@ fwd_closure((integer))>:ç%ç>:\n",
      "arch: 10\n",
      "ism: 2\n",
      " is: 2\n",
      " a: 2\n",
      " political: 3\n",
      " philosophy: 2\n",
      " and: 4\n",
      " movement: 5\n",
      " that: 1\n",
      " is: 3\n",
      " scept: 12\n",
      "ical: 0\n",
      " of: 0\n",
      " authority: 5\n",
      " and: 1\n",
      " rejects: 4\n",
      " all: 3\n",
      " involuntary: 13\n",
      ",: 4\n",
      " coercive: 3\n",
      " forms: 3\n",
      " of: 0\n",
      " hierarchy: 5\n",
      ".: 1\n",
      " Anarch: 2\n",
      "ism: 1\n",
      " calls: 5\n",
      " for: 0\n",
      " the: 2\n",
      " abolition: 1\n",
      " of: 0\n",
      " the: 2\n",
      " state: 2\n",
      ",: 1\n",
      " which: 3\n",
      " it: 3\n",
      " holds: 6\n",
      " to: 1\n",
      " be: 0\n",
      " unnecessary: 5\n",
      ",: 2\n",
      " undesirable: 7\n",
      ",: 1\n",
      " and: 1\n",
      " harmful: 3\n",
      ".: 1\n",
      " As: 4\n",
      " a: 2\n",
      " historically: 10\n",
      " left: 7\n",
      "-: 1\n",
      "wing: 0\n",
      " movement: 1\n",
      ",: 0\n",
      " placed: 14\n",
      " on: 2\n",
      " the: 1\n",
      " fart: 11\n",
      "hest: 0\n",
      " left: 1\n",
      " of: 1\n",
      " the: 1\n",
      " political: 2\n",
      " spectrum: 0\n",
      ",: 0\n",
      " it: 2\n",
      " is: 2\n",
      " usually: 7\n",
      " described: 4\n",
      " alongside: 9\n",
      " communal: 10\n",
      "ism: 1\n",
      " and: 1\n",
      " libertarian: 4\n",
      " Marxism: 8\n",
      " as: 2\n",
      " the: 2\n",
      " libertarian: 6\n",
      " wing: 5\n",
      " (: 6\n",
      "liber: 6\n",
      "tarian: 0\n",
      " socialism: 3\n",
      "): 2\n",
      " of: 1\n",
      " the: 1\n",
      " socialist: 5\n",
      " movement: 1\n",
      ",: 2\n",
      " and: 2\n",
      " has: 4\n",
      " a: 2\n",
      " strong: 2\n",
      " historical: 5\n",
      " association: 6\n",
      " with: 0\n",
      " anti: 5\n",
      "-: 0\n",
      "capital: 3\n",
      "ism: 0\n",
      " and: 1\n",
      " socialism: 4\n",
      ".: 0\n",
      "\n",
      ": 1\n",
      "\n",
      ": 0\n",
      "Hum: 10\n",
      "ans: 0\n",
      " lived: 8\n",
      " in: 1\n",
      " societies: 3\n",
      " without: 4\n",
      " formal: 4\n",
      " hierarch: 3\n",
      "ies: 0\n",
      " long: 8\n",
      " before: 0\n",
      " the: 1\n",
      " establishment: 6\n",
      " of: 0\n",
      " formal: 3\n",
      " states: 5\n",
      ",: 2\n",
      " realms: 14\n",
      ",: 2\n",
      " or: 2\n",
      " empires: 5\n",
      ".: 0\n",
      " With: 6\n",
      " the: 1\n",
      " rise: 2\n",
      " of: 0\n",
      " organised: 7\n",
      " hierarchical: 8\n",
      " bodies: 6\n",
      ",: 1\n",
      " scept: 13\n",
      "icism: 1\n",
      " toward: 6\n",
      " authority: 1\n",
      " also: 6\n",
      " rose: 4\n",
      ".: 1\n",
      " Although: 5\n",
      " traces: 11\n",
      " of: 0\n",
      " anarchist: 5\n",
      " thought: 1\n",
      " are: 2\n",
      " found: 2\n",
      " throughout: 2\n",
      " history: 2\n",
      ",: 0\n",
      " modern: 6\n",
      " anarchism: 2\n",
      " emerged: 6\n",
      " from: 1\n",
      " the: 1\n",
      " Enlightenment: 4\n",
      ".: 3\n",
      " During: 6\n",
      " the: 0\n",
      " latter: 6\n",
      " half: 1\n",
      " of: 0\n",
      " the: 0\n",
      " 19: 1\n",
      "th: 0\n",
      " and: 3\n",
      " the: 4\n",
      " first: 4\n",
      " decades: 4\n",
      " of: 0\n",
      " the: 0\n",
      " 20: 0\n",
      "th: 0\n",
      " century: 0\n",
      ",: 0\n",
      " the: 2\n",
      " anarchist: 3\n",
      " movement: 0\n",
      " flourished: 5\n",
      " in: 2\n",
      " most: 5\n",
      " parts: 3\n",
      " of: 0\n",
      " the: 0\n",
      " world: 0\n",
      " and: 3\n",
      " had: 4\n",
      " a: 1\n",
      " significant: 3\n",
      " role: 3\n",
      " in: 0\n",
      " workers: 11\n",
      "': 0\n",
      " struggles: 2\n",
      " for: 3\n",
      " emancipation: 4\n",
      ".: 1\n",
      " Various: 7\n",
      " anarchist: 3\n",
      "\n",
      "Anarchism is a political philosophy and movement that is sceptical of authority and rejects all involuntary, coercive forms of hierarchy. Anarchism calls for the abolition of the state, which it holds to be unnecessary, undesirable, and harmful. As a historically left-wing movement, placed on the farthest left of the political spectrum, it is usually described alongside communalism and libertarian Marxism as the libertarian wing (libertarian socialism) of the socialist movement, and has a strong historical association with anti-capitalism and socialism.\n",
      "\n",
      "Humans lived in societies without formal hierarchies long before the establishment of formal states, realms, or empires. With the rise of organised hierarchical bodies, scepticism toward authority also rose. Although traces of anarchist thought are found throughout history, modern anarchism emerged from the Enlightenment. During the latter half of the 19th and the first decades of the 20th century, the anarchist movement flourished in most parts of the world and had a significant role in workers' struggles for emancipation. Various anarchist\n",
      "@##$$##@ bwd_closure((integer))>:ç%ç>:\n",
      " anarchist: 3\n",
      " Various: 7\n",
      ".: 1\n",
      " emancipation: 4\n",
      " for: 3\n",
      " struggles: 2\n",
      "': 0\n",
      " workers: 11\n",
      " in: 0\n",
      " role: 3\n",
      " significant: 3\n",
      " a: 1\n",
      " had: 4\n",
      " and: 3\n",
      " world: 0\n",
      " the: 0\n",
      " of: 0\n",
      " parts: 3\n",
      " most: 5\n",
      " in: 2\n",
      " flourished: 5\n",
      " movement: 0\n",
      " anarchist: 3\n",
      " the: 2\n",
      ",: 0\n",
      " century: 0\n",
      "th: 0\n",
      " 20: 0\n",
      " the: 0\n",
      " of: 0\n",
      " decades: 4\n",
      " first: 4\n",
      " the: 4\n",
      " and: 3\n",
      "th: 0\n",
      " 19: 1\n",
      " the: 0\n",
      " of: 0\n",
      " half: 1\n",
      " latter: 6\n",
      " the: 0\n",
      " During: 6\n",
      ".: 3\n",
      " Enlightenment: 4\n",
      " the: 1\n",
      " from: 1\n",
      " emerged: 6\n",
      " anarchism: 2\n",
      " modern: 6\n",
      ",: 0\n",
      " history: 2\n",
      " throughout: 2\n",
      " found: 2\n",
      " are: 2\n",
      " thought: 1\n",
      " anarchist: 5\n",
      " of: 0\n",
      " traces: 11\n",
      " Although: 5\n",
      ".: 1\n",
      " rose: 4\n",
      " also: 6\n",
      " authority: 1\n",
      " toward: 6\n",
      "icism: 1\n",
      " scept: 13\n",
      ",: 1\n",
      " bodies: 6\n",
      " hierarchical: 8\n",
      " organised: 7\n",
      " of: 0\n",
      " rise: 2\n",
      " the: 1\n",
      " With: 6\n",
      ".: 0\n",
      " empires: 5\n",
      " or: 2\n",
      ",: 2\n",
      " realms: 14\n",
      ",: 2\n",
      " states: 5\n",
      " formal: 3\n",
      " of: 0\n",
      " establishment: 6\n",
      " the: 1\n",
      " before: 0\n",
      " long: 8\n",
      "ies: 0\n",
      " hierarch: 3\n",
      " formal: 4\n",
      " without: 4\n",
      " societies: 3\n",
      " in: 1\n",
      " lived: 8\n",
      "ans: 0\n",
      "Hum: 10\n",
      "\n",
      ": 0\n",
      "\n",
      ": 1\n",
      ".: 0\n",
      " socialism: 4\n",
      " and: 1\n",
      "ism: 0\n",
      "capital: 3\n",
      "-: 0\n",
      " anti: 5\n",
      " with: 0\n",
      " association: 6\n",
      " historical: 5\n",
      " strong: 2\n",
      " a: 2\n",
      " has: 4\n",
      " and: 2\n",
      ",: 2\n",
      " movement: 1\n",
      " socialist: 5\n",
      " the: 1\n",
      " of: 1\n",
      "): 2\n",
      " socialism: 3\n",
      "tarian: 0\n",
      "liber: 6\n",
      " (: 6\n",
      " wing: 5\n",
      " libertarian: 6\n",
      " the: 2\n",
      " as: 2\n",
      " Marxism: 8\n",
      " libertarian: 4\n",
      " and: 1\n",
      "ism: 1\n",
      " communal: 10\n",
      " alongside: 9\n",
      " described: 4\n",
      " usually: 7\n",
      " is: 2\n",
      " it: 2\n",
      ",: 0\n",
      " spectrum: 0\n",
      " political: 2\n",
      " the: 1\n",
      " of: 1\n",
      " left: 1\n",
      "hest: 0\n",
      " fart: 11\n",
      " the: 1\n",
      " on: 2\n",
      " placed: 14\n",
      ",: 0\n",
      " movement: 1\n",
      "wing: 0\n",
      "-: 1\n",
      " left: 7\n",
      " historically: 10\n",
      " a: 2\n",
      " As: 4\n",
      ".: 1\n",
      " harmful: 3\n",
      " and: 1\n",
      ",: 1\n",
      " undesirable: 7\n",
      ",: 2\n",
      " unnecessary: 5\n",
      " be: 0\n",
      " to: 1\n",
      " holds: 6\n",
      " it: 3\n",
      " which: 3\n",
      ",: 1\n",
      " state: 2\n",
      " the: 2\n",
      " of: 0\n",
      " abolition: 1\n",
      " the: 2\n",
      " for: 0\n",
      " calls: 5\n",
      "ism: 1\n",
      " Anarch: 2\n",
      ".: 1\n",
      " hierarchy: 5\n",
      " of: 0\n",
      " forms: 3\n",
      " coercive: 3\n",
      ",: 4\n",
      " involuntary: 13\n",
      " all: 3\n",
      " rejects: 4\n",
      " and: 1\n",
      " authority: 5\n",
      " of: 0\n",
      "ical: 0\n",
      " scept: 12\n",
      " is: 3\n",
      " that: 1\n",
      " movement: 5\n",
      " and: 4\n",
      " philosophy: 2\n",
      " political: 3\n",
      " a: 2\n",
      " is: 2\n",
      "ism: 2\n",
      "arch: 10\n",
      "\n"
     ]
    }
   ],
   "source": [
    "print(model.detokenize(output[0][0]))\n",
    "print(model.detokenize(output[4][0]))"
   ]
  },
  {
   "cell_type": "code",
   "execution_count": null,
   "metadata": {},
   "outputs": [
    {
     "data": {
      "text/plain": [
       "torch.Size([0])"
      ]
     },
     "execution_count": 7,
     "metadata": {},
     "output_type": "execute_result"
    }
   ],
   "source": [
    "generated.shape"
   ]
  },
  {
   "cell_type": "code",
   "execution_count": null,
   "metadata": {},
   "outputs": [
    {
     "data": {
      "text/plain": [
       "torch.Size([0])"
      ]
     },
     "execution_count": 8,
     "metadata": {},
     "output_type": "execute_result"
    }
   ],
   "source": [
    "generated.shape"
   ]
  },
  {
   "cell_type": "markdown",
   "metadata": {},
   "source": []
  },
  {
   "cell_type": "code",
   "execution_count": null,
   "metadata": {},
   "outputs": [
    {
     "name": "stdout",
     "output_type": "stream",
     "text": [
      "tensor([1., 1., 1.])\n",
      "tensor([1., 1., 1.])\n",
      "tensor([1., 1., 1.])\n"
     ]
    }
   ],
   "source": [
    "import torch\n",
    "\n",
    "t = torch.ones(10)\n",
    "t = t.unfold(0,3,3)\n",
    "\n",
    "for row in t:\n",
    "    print(row)\n"
   ]
  },
  {
   "cell_type": "code",
   "execution_count": null,
   "metadata": {},
   "outputs": [],
   "source": [
    "get_corpus_method = lambda: data.database[91][\"text\"]"
   ]
  },
  {
   "cell_type": "code",
   "execution_count": null,
   "metadata": {},
   "outputs": [
    {
     "ename": "TypeError",
     "evalue": "Closure.generate() got an unexpected keyword argument 'inverse_order'",
     "output_type": "error",
     "traceback": [
      "\u001b[0;31m---------------------------------------------------------------------------\u001b[0m",
      "\u001b[0;31mTypeError\u001b[0m                                 Traceback (most recent call last)",
      "Cell \u001b[0;32mIn[11], line 1\u001b[0m\n\u001b[0;32m----> 1\u001b[0m new_data \u001b[38;5;241m=\u001b[39m \u001b[43mtask\u001b[49m\u001b[38;5;241;43m.\u001b[39;49m\u001b[43msynthesize\u001b[49m\u001b[43m(\u001b[49m\u001b[43mget_corpus_method\u001b[49m\u001b[43m,\u001b[49m\u001b[43m \u001b[49m\u001b[38;5;241;43m1\u001b[39;49m\u001b[43m,\u001b[49m\u001b[43m \u001b[49m\u001b[43mout_type\u001b[49m\u001b[38;5;241;43m=\u001b[39;49m\u001b[38;5;124;43m\"\u001b[39;49m\u001b[38;5;124;43mtokens\u001b[39;49m\u001b[38;5;124;43m\"\u001b[39;49m\u001b[43m,\u001b[49m\u001b[43m \u001b[49m\u001b[43minverse_order\u001b[49m\u001b[38;5;241;43m=\u001b[39;49m\u001b[38;5;28;43;01mTrue\u001b[39;49;00m\u001b[43m)\u001b[49m\n",
      "File \u001b[0;32m~/xent-futurarium/xent/base.py:217\u001b[0m, in \u001b[0;36mTask.synthesize\u001b[0;34m(self, get_sample, n_samples, out_type, **kwargs)\u001b[0m\n\u001b[1;32m    215\u001b[0m output \u001b[38;5;241m=\u001b[39m []\n\u001b[1;32m    216\u001b[0m generator \u001b[38;5;241m=\u001b[39m \u001b[38;5;28mself\u001b[39m\u001b[38;5;241m.\u001b[39mdataset_generator(get_sample\u001b[38;5;241m=\u001b[39mget_sample, out_type\u001b[38;5;241m=\u001b[39mout_type, \u001b[38;5;241m*\u001b[39m\u001b[38;5;241m*\u001b[39mkwargs)\n\u001b[0;32m--> 217\u001b[0m \u001b[38;5;28;01mfor\u001b[39;00m sample \u001b[38;5;129;01min\u001b[39;00m generator(n_samples):\n\u001b[1;32m    218\u001b[0m     output\u001b[38;5;241m.\u001b[39mappend(sample)\n\u001b[1;32m    219\u001b[0m \u001b[38;5;28;01mif\u001b[39;00m out_type \u001b[38;5;241m==\u001b[39m \u001b[38;5;124m\"\u001b[39m\u001b[38;5;124mtext\u001b[39m\u001b[38;5;124m\"\u001b[39m: \u001b[38;5;28;01mreturn\u001b[39;00m output \u001b[38;5;66;03m# returns List[str]\u001b[39;00m\n",
      "File \u001b[0;32m~/xent-futurarium/xent/base.py:196\u001b[0m, in \u001b[0;36mTask.dataset_generator.<locals>.iterator\u001b[0;34m(n_samples)\u001b[0m\n\u001b[1;32m    194\u001b[0m n \u001b[38;5;241m=\u001b[39m \u001b[38;5;241m0\u001b[39m\n\u001b[1;32m    195\u001b[0m \u001b[38;5;28;01mwhile\u001b[39;00m n \u001b[38;5;241m<\u001b[39m n_samples:\n\u001b[0;32m--> 196\u001b[0m     tok \u001b[38;5;241m=\u001b[39m \u001b[38;5;28;43mself\u001b[39;49m\u001b[38;5;241;43m.\u001b[39;49m\u001b[43mgenerate\u001b[49m\u001b[43m(\u001b[49m\u001b[43mget_sample\u001b[49m\u001b[43m,\u001b[49m\u001b[38;5;241;43m*\u001b[39;49m\u001b[38;5;241;43m*\u001b[39;49m\u001b[43mkwargs\u001b[49m\u001b[43m)\u001b[49m \u001b[38;5;66;03m# generate should always move in tokens space\u001b[39;00m\n\u001b[1;32m    197\u001b[0m     \u001b[38;5;28;01mif\u001b[39;00m tok\u001b[38;5;241m.\u001b[39mshape[\u001b[38;5;241m1\u001b[39m] \u001b[38;5;241m<\u001b[39m\u001b[38;5;241m=\u001b[39m \u001b[38;5;28mself\u001b[39m\u001b[38;5;241m.\u001b[39mM\u001b[38;5;241m.\u001b[39mctx_window:\n\u001b[1;32m    198\u001b[0m         n \u001b[38;5;241m+\u001b[39m\u001b[38;5;241m=\u001b[39m \u001b[38;5;241m1\u001b[39m\n",
      "\u001b[0;31mTypeError\u001b[0m: Closure.generate() got an unexpected keyword argument 'inverse_order'"
     ]
    }
   ],
   "source": [
    "new_data = task.synthesize(get_corpus_method, 1, out_type=\"tokens\", inverse_order=True)"
   ]
  },
  {
   "cell_type": "code",
   "execution_count": null,
   "metadata": {},
   "outputs": [
    {
     "data": {
      "text/plain": [
       "[30, 30, 30, 30, 30, 3]"
      ]
     },
     "execution_count": 9,
     "metadata": {},
     "output_type": "execute_result"
    }
   ],
   "source": [
    "total = 153\n",
    "chunks = 30\n",
    "\n",
    "def schedule(total, chunks):\n",
    "    if total%chunks != 0:\n",
    "        return [*[chunks]*(total//chunks), total%chunks]\n",
    "    else: \n",
    "        return [chunks]*(total//chunks)\n",
    "\n",
    "schedule(total, chunks)"
   ]
  },
  {
   "cell_type": "code",
   "execution_count": null,
   "metadata": {},
   "outputs": [
    {
     "data": {
      "text/plain": [
       "tensor(0)"
      ]
     },
     "execution_count": 10,
     "metadata": {},
     "output_type": "execute_result"
    }
   ],
   "source": [
    "workers = 3\n",
    "\n",
    "def distribute_workers(total, chunks, workers):\n",
    "    splits = schedule(total, workers)\n",
    "    return splits\n",
    "    schedules = [schedule(s, chunks) for s in splits]\n",
    "    return schedules\n",
    "\n",
    "total = 100\n",
    "workers = 3\n",
    "chunks = 100\n",
    "\n",
    "per_worker = total // workers\n",
    "per_worker_schedule = [[*[chunks]*(per_worker//chunks), total%chunks] for _ in range(workers)]\n",
    "\n",
    "import torch\n",
    "torch.tensor(per_worker_schedule).sum()"
   ]
  },
  {
   "cell_type": "code",
   "execution_count": null,
   "metadata": {},
   "outputs": [
    {
     "data": {
      "text/plain": [
       "[2152890, 2152890, 2152890]"
      ]
     },
     "execution_count": 11,
     "metadata": {},
     "output_type": "execute_result"
    }
   ],
   "source": [
    "def split_into_n(total, n):\n",
    "    base = total // n\n",
    "    remainder = total % n\n",
    "    result = [base] * n\n",
    "    if remainder:\n",
    "        result[-1] += remainder\n",
    "    return result\n",
    "\n",
    "split_into_n(6458670, 3)  # Returns [33, 33, 34]"
   ]
  }
 ],
 "metadata": {
  "kernelspec": {
   "display_name": "menv",
   "language": "python",
   "name": "python3"
  },
  "language_info": {
   "codemirror_mode": {
    "name": "ipython",
    "version": 3
   },
   "file_extension": ".py",
   "mimetype": "text/x-python",
   "name": "python",
   "nbconvert_exporter": "python",
   "pygments_lexer": "ipython3",
   "version": "3.10.12"
  }
 },
 "nbformat": 4,
 "nbformat_minor": 2
}
