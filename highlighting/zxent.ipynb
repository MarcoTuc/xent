{
 "cells": [
  {
   "cell_type": "code",
   "execution_count": 1,
   "metadata": {},
   "outputs": [],
   "source": [
    "from xentlang import X"
   ]
  },
  {
   "cell_type": "code",
   "execution_count": 4,
   "metadata": {},
   "outputs": [
    {
     "data": {
      "text/plain": [
       "'@##$$##@ red-blue(([[I, definitive majesty>< Have (not yet)]]>< great definition of mathematical, physical science>< This should go inside [] or () parentheses))>:ç%ç>:'"
      ]
     },
     "execution_count": 4,
     "metadata": {},
     "output_type": "execute_result"
    }
   ],
   "source": [
    "# check that when you have mapped symbols inside arguments of a xent function, \n",
    "# they are not mapped in their equivalents in the xent mapping but are kept as they are in the original text\n",
    "\n",
    "y = (\"I, definitive majesty\", \"Have (not yet)\")\n",
    "x1 = \"great definition of mathematical, physical science\"\n",
    "x2 = \"This should go inside [] or () parentheses\"\n",
    "\n",
    "X.redblue(y, x1, x2)"
   ]
  }
 ],
 "metadata": {
  "kernelspec": {
   "display_name": "menv",
   "language": "python",
   "name": "python3"
  },
  "language_info": {
   "codemirror_mode": {
    "name": "ipython",
    "version": 3
   },
   "file_extension": ".py",
   "mimetype": "text/x-python",
   "name": "python",
   "nbconvert_exporter": "python",
   "pygments_lexer": "ipython3",
   "version": "3.12.4"
  }
 },
 "nbformat": 4,
 "nbformat_minor": 2
}
