{
 "cells": [
  {
   "cell_type": "code",
   "execution_count": 2,
   "metadata": {},
   "outputs": [],
   "source": [
    "import torch\n",
    "import torch.nn.functional as F"
   ]
  },
  {
   "cell_type": "code",
   "execution_count": 3,
   "metadata": {},
   "outputs": [],
   "source": [
    "batches = 10\n",
    "vocab_size = 50000\n",
    "context_window = 64\n",
    "\n",
    "logits = torch.ones((batches, context_window, vocab_size)) # [BTCH, CTX, VOCAB]\n",
    "tokens = torch.randint(0, vocab_size, size=(batches, context_window)) # [BTCH, CTX]"
   ]
  },
  {
   "cell_type": "code",
   "execution_count": 14,
   "metadata": {},
   "outputs": [
    {
     "data": {
      "text/plain": [
       "(tensor([10637, 24168, 43540, 43969, 39671, 41906, 12333, 27944, 32241,  2485,\n",
       "         43514, 42098, 26859, 16858, 43289,  6090, 19370, 34312,  6394, 14294,\n",
       "         22766, 44219, 27319, 31493,  3755,  1794, 49552, 11979, 22762, 32728,\n",
       "         20437, 40447,   248, 39253,  3807, 28550, 42991,  9954,  1115,  4930,\n",
       "         43315, 45716,  6336, 14132, 29107, 21598, 37910, 45587, 19619, 29946,\n",
       "         42242, 30327, 36455, 34583, 17532, 45097, 43688, 29210,  6452, 19352,\n",
       "          2040, 39682, 47703, 25805]),\n",
       " tensor([25805, 47703, 39682,  2040, 19352,  6452, 29210, 43688, 45097, 17532,\n",
       "         34583, 36455, 30327, 42242, 29946, 19619, 45587, 37910, 21598, 29107,\n",
       "         14132,  6336, 45716, 43315,  4930,  1115,  9954, 42991, 28550,  3807,\n",
       "         39253,   248, 40447, 20437, 32728, 22762, 11979, 49552,  1794,  3755,\n",
       "         31493, 27319, 44219, 22766, 14294,  6394, 34312, 19370,  6090, 43289,\n",
       "         16858, 26859, 42098, 43514,  2485, 32241, 27944, 12333, 41906, 39671,\n",
       "         43969, 43540, 24168, 10637]))"
      ]
     },
     "execution_count": 14,
     "metadata": {},
     "output_type": "execute_result"
    }
   ],
   "source": [
    "tokens[0].flip(0), tokens[0]"
   ]
  },
  {
   "cell_type": "code",
   "execution_count": 5,
   "metadata": {},
   "outputs": [
    {
     "name": "stdout",
     "output_type": "stream",
     "text": [
      "torch.Size([640, 50000])\n",
      "torch.Size([640])\n",
      "torch.Size([640])\n",
      "10.81977653503418\n"
     ]
    }
   ],
   "source": [
    "xent = F.cross_entropy(logits.view(-1, logits.size(-1)), tokens.view(-1), reduction=\"none\")\n",
    "print(logits.view(-1, logits.size(-1)).shape)\n",
    "print(tokens.view(-1).shape)\n",
    "print(xent.shape)\n",
    "print(xent.mean().item())"
   ]
  },
  {
   "cell_type": "code",
   "execution_count": 6,
   "metadata": {},
   "outputs": [
    {
     "name": "stdout",
     "output_type": "stream",
     "text": [
      "torch.Size([10, 50000, 64])\n",
      "torch.Size([10, 64])\n",
      "torch.Size([10, 64])\n",
      "10.81977653503418\n"
     ]
    }
   ],
   "source": [
    "xent = F.cross_entropy(logits.permute(0,2,1), tokens, reduction=\"none\")\n",
    "print(logits.permute(0,2,1).shape)\n",
    "print(tokens.shape)\n",
    "print(xent.shape)\n",
    "print(xent.mean().item())"
   ]
  },
  {
   "cell_type": "code",
   "execution_count": 7,
   "metadata": {},
   "outputs": [
    {
     "data": {
      "text/plain": [
       "tensor(10.8198)"
      ]
     },
     "execution_count": 7,
     "metadata": {},
     "output_type": "execute_result"
    }
   ],
   "source": [
    "torch.log(torch.tensor(vocab_size))"
   ]
  }
 ],
 "metadata": {
  "kernelspec": {
   "display_name": "menv",
   "language": "python",
   "name": "python3"
  },
  "language_info": {
   "codemirror_mode": {
    "name": "ipython",
    "version": 3
   },
   "file_extension": ".py",
   "mimetype": "text/x-python",
   "name": "python",
   "nbconvert_exporter": "python",
   "pygments_lexer": "ipython3",
   "version": "3.10.12"
  }
 },
 "nbformat": 4,
 "nbformat_minor": 2
}
