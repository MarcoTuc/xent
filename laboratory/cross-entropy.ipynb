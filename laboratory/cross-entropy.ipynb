{
 "cells": [
  {
   "cell_type": "code",
   "execution_count": 141,
   "metadata": {},
   "outputs": [],
   "source": [
    "import torch\n",
    "import torch.nn.functional as F"
   ]
  },
  {
   "cell_type": "code",
   "execution_count": 142,
   "metadata": {},
   "outputs": [],
   "source": [
    "batches = 10\n",
    "vocab_size = 50000\n",
    "context_window = 64\n",
    "\n",
    "logits = torch.ones((batches, context_window, vocab_size)) # [BTCH, CTX, VOCAB]\n",
    "tokens = torch.randint(0, vocab_size, size=(batches, context_window)) # [BTCH, CTX]"
   ]
  },
  {
   "cell_type": "code",
   "execution_count": 143,
   "metadata": {},
   "outputs": [
    {
     "name": "stdout",
     "output_type": "stream",
     "text": [
      "torch.Size([640, 50000])\n",
      "torch.Size([640])\n",
      "torch.Size([640])\n",
      "10.81977653503418\n"
     ]
    }
   ],
   "source": [
    "xent = F.cross_entropy(logits.view(-1, logits.size(-1)), tokens.view(-1), reduction=\"none\")\n",
    "print(logits.view(-1, logits.size(-1)).shape)\n",
    "print(tokens.view(-1).shape)\n",
    "print(xent.shape)\n",
    "print(xent.mean().item())"
   ]
  },
  {
   "cell_type": "code",
   "execution_count": 144,
   "metadata": {},
   "outputs": [
    {
     "name": "stdout",
     "output_type": "stream",
     "text": [
      "torch.Size([10, 50000, 64])\n",
      "torch.Size([10, 64])\n",
      "torch.Size([10, 64])\n",
      "10.81977653503418\n"
     ]
    }
   ],
   "source": [
    "xent = F.cross_entropy(logits.permute(0,2,1), tokens, reduction=\"none\")\n",
    "print(logits.permute(0,2,1).shape)\n",
    "print(tokens.shape)\n",
    "print(xent.shape)\n",
    "print(xent.mean().item())"
   ]
  },
  {
   "cell_type": "code",
   "execution_count": 145,
   "metadata": {},
   "outputs": [
    {
     "data": {
      "text/plain": [
       "tensor(10.8198)"
      ]
     },
     "execution_count": 145,
     "metadata": {},
     "output_type": "execute_result"
    }
   ],
   "source": [
    "torch.log(torch.tensor(vocab_size))"
   ]
  }
 ],
 "metadata": {
  "kernelspec": {
   "display_name": "menv",
   "language": "python",
   "name": "python3"
  },
  "language_info": {
   "codemirror_mode": {
    "name": "ipython",
    "version": 3
   },
   "file_extension": ".py",
   "mimetype": "text/x-python",
   "name": "python",
   "nbconvert_exporter": "python",
   "pygments_lexer": "ipython3",
   "version": "3.10.12"
  }
 },
 "nbformat": 4,
 "nbformat_minor": 2
}
