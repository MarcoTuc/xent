{
 "cells": [
  {
   "cell_type": "code",
   "execution_count": 1,
   "metadata": {},
   "outputs": [],
   "source": [
    "%load_ext autoreload\n",
    "%autoreload 2\n",
    "import os\n",
    "os.chdir(\"../\")"
   ]
  },
  {
   "cell_type": "code",
   "execution_count": 2,
   "metadata": {},
   "outputs": [],
   "source": [
    "import torch\n",
    "import torch.nn.functional as F\n",
    "from xent.tasks import Closure\n",
    "from xent.models import M\n",
    "from xent.lang import X\n",
    "from xent.dataprocessing import Wikipedia\n",
    "from xent.config import *"
   ]
  },
  {
   "cell_type": "code",
   "execution_count": 3,
   "metadata": {},
   "outputs": [],
   "source": [
    "model = M(\"gpt2\", \"M0\", base=\"base\")\n",
    "checker_model = M(\"gpt2\", \"M1-zero\", base=\"closure\")"
   ]
  },
  {
   "cell_type": "code",
   "execution_count": 4,
   "metadata": {},
   "outputs": [
    {
     "data": {
      "application/vnd.jupyter.widget-view+json": {
       "model_id": "37b7d6796003421b9281c10f4e4d3c27",
       "version_major": 2,
       "version_minor": 0
      },
      "text/plain": [
       "Loading dataset shards:   0%|          | 0/41 [00:00<?, ?it/s]"
      ]
     },
     "metadata": {},
     "output_type": "display_data"
    }
   ],
   "source": [
    "corpus_generator = Wikipedia(split=0.8)\n",
    "get_test_sample = corpus_generator.get_random_test_text"
   ]
  },
  {
   "cell_type": "code",
   "execution_count": 5,
   "metadata": {},
   "outputs": [],
   "source": [
    "task = Closure(model)\n",
    "synth = task.synthesize(get_test_sample, 1, out_type=\"string\")"
   ]
  },
  {
   "cell_type": "code",
   "execution_count": 107,
   "metadata": {},
   "outputs": [],
   "source": [
    "cut = task.find_xstring(synth[0], X.xreturn)\n",
    "tasktokens = model.tokenize(synth[0]).input_ids.squeeze(0)"
   ]
  },
  {
   "cell_type": "code",
   "execution_count": 108,
   "metadata": {},
   "outputs": [],
   "source": [
    "numbers = [\" 0\",\" 1\",\" 2\",\" 3\",\" 4\",\" 5\",\" 6\",\" 7\",\" 8\",\" 9\",\" 10\",\" 11\",\" 12\",\" 13\",\" 14\",\" 15\",\" 16\",\" 17\",\" 18\",\" 19\",\" 20\",\" 21\",\" 22\",\" 23\",\" 24\",\" 25\",\" 26\",\" 27\",\" 28\",\" 29\",\" 30\"]\n",
    "numtoks = torch.tensor([model.tokenize(num).input_ids for num in numbers]).to(device)"
   ]
  },
  {
   "cell_type": "code",
   "execution_count": 109,
   "metadata": {},
   "outputs": [],
   "source": [
    "CUT = cut+6\n",
    "isnumber = torch.tensor([tok in numtoks for tok in tasktokens[CUT:]])\n",
    "xentoks = tasktokens[CUT:][torch.where(isnumber)]\n",
    "\n",
    "slices = [line for el in model.detokenize(tasktokens[CUT:]).split(\"\\n\\n\") for line in el.split(\"\\n\")]"
   ]
  },
  {
   "cell_type": "code",
   "execution_count": 110,
   "metadata": {},
   "outputs": [],
   "source": [
    "checker_model.model.eval()\n",
    "with torch.no_grad():\n",
    "    logits = checker_model.model(tasktokens.unsqueeze(0)).logits\n",
    "    loss = F.cross_entropy(logits[0, CUT:-1], tasktokens.unsqueeze(0)[0, CUT+1:], reduction=\"none\")\n",
    "    # Get the predicted token probabilities\n",
    "    probs = F.softmax(logits[0, CUT:-1], dim=-1)\n",
    "    # Get the indices of tokens with highest probabilities\n",
    "    highest_prob_tokens = torch.argmax(probs, dim=-1)\n",
    "    # Convert to list for easier inspection"
   ]
  },
  {
   "cell_type": "code",
   "execution_count": 111,
   "metadata": {},
   "outputs": [],
   "source": [
    "slices_2 = [line for el in model.detokenize(highest_prob_tokens).split(\"\\n\\n\") for line in el.split(\"\\n\")]\n",
    "xentok_isnum = torch.tensor([tok in numtoks for tok in highest_prob_tokens])\n",
    "prob_xentoks = highest_prob_tokens[torch.where(xentok_isnum)]"
   ]
  },
  {
   "cell_type": "code",
   "execution_count": 112,
   "metadata": {},
   "outputs": [
    {
     "data": {
      "text/plain": [
       "True"
      ]
     },
     "execution_count": 112,
     "metadata": {},
     "output_type": "execute_result"
    }
   ],
   "source": [
    "model.tokenize(slices[42].split(\":\")[0]).input_ids in numtoks"
   ]
  },
  {
   "cell_type": "code",
   "execution_count": 115,
   "metadata": {},
   "outputs": [],
   "source": [
    "skip_indices = []\n",
    "for i, (s1, s2, x1, x2) in enumerate(zip(slices, slices_2, xentoks, prob_xentoks)):\n",
    "    try: \n",
    "        if model.tokenize(s1.split(':')[0]).input_ids[0] in numtoks:\n",
    "            skip_indices.append(i)\n",
    "    except: pass\n",
    "skip_indices = torch.tensor(skip_indices)\n",
    "keep_mask = torch.ones(len(xentoks), dtype=torch.bool)\n",
    "keep_mask[skip_indices] = False\n",
    "xentoks = xentoks[torch.where(keep_mask)]\n",
    "prob_xentoks = prob_xentoks[torch.where(keep_mask)]"
   ]
  },
  {
   "cell_type": "code",
   "execution_count": 116,
   "metadata": {},
   "outputs": [
    {
     "name": "stdout",
     "output_type": "stream",
     "text": [
      "ione: 11            | : 11                |  11   |  11 | tensor([7935], device='cuda:2')\n",
      "er: 0               | er: 0               |  0    |  0 | tensor([263], device='cuda:2')\n",
      " Cemetery: 12       |  Cemetery: 8        |  12   |  8 | tensor([35637], device='cuda:2')\n",
      " is: 3              |  is: 4              |  3    |  4 | tensor([318], device='cuda:2')\n",
      " a: 2               |  a: 2               |  2    |  2 | tensor([257], device='cuda:2')\n",
      " historic: 4        |  historic: 4        |  4    |  4 | tensor([9566], device='cuda:2')\n",
      " cemetery: 4        |  cemetery: 2        |  4    |  2 | tensor([27316], device='cuda:2')\n",
      " located: 2         |  located: 2         |  2    |  2 | tensor([5140], device='cuda:2')\n",
      " at: 2              |  at: 2              |  2    |  2 | tensor([379], device='cuda:2')\n",
      " Sidney: 9          |  Sidney: 8          |  9    |  8 | tensor([35727], device='cuda:2')\n",
      " in: 5              |  in: 4              |  5    |  4 | tensor([287], device='cuda:2')\n",
      " Delaware: 6        |  Delaware: 6        |  6    |  6 | tensor([19603], device='cuda:2')\n",
      " County: 0          |  County: 0          |  0    |  0 | tensor([3418], device='cuda:2')\n",
      ",: 1                | ,: 1                |  1    |  1 | tensor([11], device='cuda:2')\n",
      " New: 3             |  New: 2             |  3    |  2 | tensor([968], device='cuda:2')\n",
      " York: 1            |  York: 0            |  1    |  0 | tensor([1971], device='cuda:2')\n",
      ",: 2                | ,: 2                |  2    |  2 | tensor([11], device='cuda:2')\n",
      " United: 3          |  United: 5          |  3    |  5 | tensor([1578], device='cuda:2')\n",
      " States: 0          |  States: 0          |  0    |  0 | tensor([1829], device='cuda:2')\n",
      ".: 0                | .: 0                |  0    |  0 | tensor([13], device='cuda:2')\n",
      " It: 1              |  It: 2              |  1    |  2 | tensor([632], device='cuda:2')\n",
      " is: 1              |  is: 1              |  1    |  1 | tensor([318], device='cuda:2')\n",
      " a: 2               |  a: 2               |  2    |  2 | tensor([257], device='cuda:2')\n",
      " community: 5       |  community: 5       |  5    |  5 | tensor([2055], device='cuda:2')\n",
      " burial: 6          |  burial: 4          |  6    |  4 | tensor([23867], device='cuda:2')\n",
      " ground: 0          |  ground: 0          |  0    |  0 | tensor([2323], device='cuda:2')\n",
      " with: 3            |  with: 2            |  3    |  2 | tensor([351], device='cuda:2')\n",
      " the: 4             |  the: 4             |  4    |  4 | tensor([262], device='cuda:2')\n",
      " earliest: 7        |  earliest: 5        |  7    |  5 | tensor([14555], device='cuda:2')\n",
      " recorded: 4        |  recorded: 4        |  4    |  4 | tensor([6264], device='cuda:2')\n",
      " inter: 7           |  inter: 8           |  7    |  8 | tensor([987], device='cuda:2')\n",
      "ment: 0             | ment: 1             |  0    |  1 | tensor([434], device='cuda:2')\n",
      " dated: 8           |  dated: 3           |  8    |  3 | tensor([14567], device='cuda:2')\n",
      " to: 1              |  to: 1              |  1    |  1 | tensor([284], device='cuda:2')\n",
      " 17: 3              |  17: 2              |  4    |  4 | tensor([1596], device='cuda:2')\n",
      "87: 4               | 87: 4               |  1    |  1 | tensor([5774], device='cuda:2')\n",
      ".: 1                | .: 1                |  8    |  8 | tensor([13], device='cuda:2')\n",
      " : 8                |  : 8                |  13   |  16 | tensor([220], device='cuda:2')\n",
      " Bur: 13            |  Bur: 16            |  2    |  6 | tensor([5481], device='cuda:2')\n",
      "ials: 2             | ials: 6             |  7    |  3 | tensor([8231], device='cuda:2')\n",
      " date: 7            |  date: 3            |  17   |  17 | tensor([3128], device='cuda:2')\n",
      " from: 1            |  from: 1            |  2    |  2 | tensor([422], device='cuda:2')\n",
      " 17: 2              |  17: 1              |  1    |  1 | tensor([1596], device='cuda:2')\n",
      "87: 2               | 87: 2               |  5    |  4 | tensor([5774], device='cuda:2')\n",
      " to: 1              |  to: 1              |  2    |  3 | tensor([284], device='cuda:2')\n",
      " 1890: 5            |  1890: 4            |  7    |  7 | tensor([31982], device='cuda:2')\n",
      " and: 2             |  and: 3             |  4    |  2 | tensor([290], device='cuda:2')\n",
      " cemetery: 7        |  cemetery: 7        |  3    |  4 | tensor([27316], device='cuda:2')\n",
      " records: 4         |  records: 2         |  12   |  8 | tensor([4406], device='cuda:2')\n",
      " indicate: 3        |  indicate: 4        |  4    |  6 | tensor([7603], device='cuda:2')\n",
      " 275: 12            |  275: 8             |  0    |  0 | tensor([25829], device='cuda:2')\n",
      " bur: 4             |  bur: 6             |  2    |  1 | tensor([4356], device='cuda:2')\n",
      "ials: 0             | ials: 0             |  3    |  2 | tensor([8231], device='cuda:2')\n",
      ".: 2                | .: 1                |  0    |  0 | tensor([13], device='cuda:2')\n",
      ": 3                 | : 2                 |  5    |  5 | tensor([], device='cuda:2')\n",
      ": 0                 | : 0                 |  2    |  2 | tensor([], device='cuda:2')\n",
      "It: 5               | It: 5               |  6    |  6 | tensor([1026], device='cuda:2')\n",
      " was: 2             |  was: 2             |  2    |  2 | tensor([373], device='cuda:2')\n",
      " listed: 6          |  listed: 6          |  0    |  0 | tensor([5610], device='cuda:2')\n",
      " on: 2              |  on: 2              |  1    |  2 | tensor([319], device='cuda:2')\n",
      " the: 0             |  the: 0             |  0    |  0 | tensor([262], device='cuda:2')\n",
      " National: 1        |  National: 2        |  0    |  0 | tensor([2351], device='cuda:2')\n",
      " Register: 0        |  Register: 0        |  0    |  0 | tensor([17296], device='cuda:2')\n",
      " of: 0              |  of: 0              |  0    |  0 | tensor([286], device='cuda:2')\n",
      " Historic: 0        |  Historic: 0        |  1    |  1 | tensor([30426], device='cuda:2')\n",
      " Places: 0          |  Places: 0          |  5    |  5 | tensor([37291], device='cuda:2')\n",
      " in: 1              |  in: 1              |  1    |  1 | tensor([287], device='cuda:2')\n",
      " 2007: 5            |  2007: 5            |  1    |  1 | tensor([4343], device='cuda:2')\n",
      ".: 1                | .: 1                |  0    |  0 | tensor([13], device='cuda:2')\n",
      ": 1                 | : 1                 |  7    |  6 | tensor([], device='cuda:2')\n",
      ": 0                 | : 0                 |  1    |  1 | tensor([], device='cuda:2')\n",
      "Gallery: 7          | Gallery: 6          |  0    |  0 | tensor([29352], device='cuda:2')\n",
      ": 1                 | : 1                 |  3    |  3 | tensor([], device='cuda:2')\n",
      ": 0                 | : 0                 |  1    |  0 | tensor([], device='cuda:2')\n",
      "See: 3              | See: 3              |  1    |  1 | tensor([6214], device='cuda:2')\n",
      " also: 1            |  also: 0            |  21   |  21 | tensor([635], device='cuda:2')\n",
      ": 1                 | : 1                 |  1    |  0 | tensor([], device='cuda:2')\n",
      " National: 21       |  National: 21       |  0    |  0 | tensor([2351], device='cuda:2')\n",
      " Register: 1        |  Register: 0        |  0    |  0 | tensor([17296], device='cuda:2')\n",
      " of: 0              |  of: 0              |  0    |  0 | tensor([286], device='cuda:2')\n",
      " Historic: 0        |  Historic: 0        |  8    |  8 | tensor([30426], device='cuda:2')\n",
      " Places: 0          |  Places: 0          |  5    |  4 | tensor([37291], device='cuda:2')\n",
      " listings: 8        |  listings: 8        |  4    |  4 | tensor([26890], device='cuda:2')\n",
      " in: 5              |  in: 4              |  1    |  0 | tensor([287], device='cuda:2')\n",
      " Delaware: 4        |  Delaware: 4        |  1    |  1 | tensor([19603], device='cuda:2')\n",
      " County: 1          |  County: 0          |  0    |  0 | tensor([3418], device='cuda:2')\n",
      ",: 1                | ,: 1                |  0    |  0 | tensor([11], device='cuda:2')\n",
      " New: 0             |  New: 0             |  2    |  2 | tensor([968], device='cuda:2')\n",
      " York: 0            |  York: 0            |  0    |  0 | tensor([1971], device='cuda:2')\n",
      ": 2                 | : 2                 |  3    |  4 | tensor([], device='cuda:2')\n",
      ": 0                 | : 0                 |  1    |  1 | tensor([], device='cuda:2')\n",
      "References: 3       | References: 4       |  0    |  0 | tensor([19927], device='cuda:2')\n",
      ": 1                 | : 1                 |  5    |  5 | tensor([], device='cuda:2')\n",
      ": 0                 | : 0                 |  1    |  1 | tensor([], device='cuda:2')\n",
      "External: 5         | External: 5         |  1    |  1 | tensor([41506], device='cuda:2')\n",
      " links: 1           |  links: 1           |  14   |  14 | tensor([6117], device='cuda:2')\n",
      ": 1                 | : 1                 |  5    |  4 | tensor([], device='cuda:2')\n",
      " : 14               |  : 14               |  10   |  10 | tensor([220], device='cuda:2')\n",
      ": 5                 | : 4                 |  2    |  2 | tensor([], device='cuda:2')\n",
      " : 10               |  : 10               |  6    |  7 | tensor([220], device='cuda:2')\n",
      ": 2                 | : 2                 |  5    |  5 | tensor([], device='cuda:2')\n",
      ": 6                 | : 7                 |  5    |  5 | tensor([], device='cuda:2')\n",
      "C: 5                | C: 5                |  0    |  0 | tensor([34], device='cuda:2')\n",
      "em: 5               | em: 5               |  0    |  0 | tensor([368], device='cuda:2')\n",
      "eter: 0             | eter: 0             |  5    |  4 | tensor([2357], device='cuda:2')\n",
      "ies: 0              | ies: 0              |  1    |  2 | tensor([444], device='cuda:2')\n",
      " on: 5              |  on: 4              |  3    |  3 | tensor([319], device='cuda:2')\n",
      " the: 1             |  the: 2             |  0    |  0 | tensor([262], device='cuda:2')\n",
      " National: 3        |  National: 3        |  0    |  0 | tensor([2351], device='cuda:2')\n",
      " Register: 0        |  Register: 0        |  0    |  0 | tensor([17296], device='cuda:2')\n",
      " of: 0              |  of: 0              |  0    |  0 | tensor([286], device='cuda:2')\n",
      " Historic: 0        |  Historic: 0        |  3    |  3 | tensor([30426], device='cuda:2')\n",
      " Places: 0          |  Places: 0          |  3    |  2 | tensor([37291], device='cuda:2')\n",
      " in: 3              |  in: 3              |  0    |  0 | tensor([287], device='cuda:2')\n",
      " New: 3             |  New: 2             |  4    |  4 | tensor([968], device='cuda:2')\n",
      " York: 0            |  York: 0            |  8    |  8 | tensor([1971], device='cuda:2')\n",
      " (: 4               |  (: 4               |  2    |  2 | tensor([357], device='cuda:2')\n",
      "state: 8            | state: 8            |  1    |  1 | tensor([5219], device='cuda:2')\n",
      "): 2                | ): 2                |  24   |  24 | tensor([8], device='cuda:2')\n",
      ": 1                 | : 1                 |  0    |  0 | tensor([], device='cuda:2')\n",
      "National: 24        | National: 24        |  0    |  0 | tensor([16186], device='cuda:2')\n",
      " Register: 0        |  Register: 0        |  0    |  0 | tensor([17296], device='cuda:2')\n",
      " of: 0              |  of: 0              |  0    |  0 | tensor([286], device='cuda:2')\n",
      " Historic: 0        |  Historic: 0        |  1    |  1 | tensor([30426], device='cuda:2')\n",
      " Places: 0          |  Places: 0          |  1    |  1 | tensor([37291], device='cuda:2')\n",
      " in: 1              |  in: 1              |  0    |  0 | tensor([287], device='cuda:2')\n",
      " Delaware: 1        |  Delaware: 1        |  0    |  0 | tensor([19603], device='cuda:2')\n",
      " County: 0          |  County: 0          |  0    |  0 | tensor([3418], device='cuda:2')\n",
      ",: 0                | ,: 0                |  0    |  0 | tensor([11], device='cuda:2')\n",
      " New: 0             |  New: 0             |  1    |  1 | tensor([968], device='cuda:2')\n",
      " York: 0            |  York: 0            |  18   |  17 | tensor([1971], device='cuda:2')\n",
      ": 1                 | : 1                 |  0    |  1 | tensor([], device='cuda:2')\n",
      "17: 18              | 17: 17              |  14   |  16 | tensor([1558], device='cuda:2')\n",
      "87: 0               | 87: 1               |  2    |  2 | tensor([5774], device='cuda:2')\n",
      " establishments: 14 |  establishments: 16 |  2    |  1 | tensor([33228], device='cuda:2')\n",
      " in: 2              |  in: 2              |  0    |  0 | tensor([287], device='cuda:2')\n",
      " New: 2             |  New: 1             |  3    |  3 | tensor([968], device='cuda:2')\n",
      " York: 0            |  York: 0            |  1    |  1 | tensor([1971], device='cuda:2')\n",
      " (: 3               |  (: 3               |  0    |  0 | tensor([357], device='cuda:2')\n",
      "state: 1            | state: 1            |  1    |  1 | tensor([5219], device='cuda:2')\n",
      "): 0                | ): 0                |  16   |  16 | tensor([8], device='cuda:2')\n",
      ": 1                 | : 1                 |  1    |  0 | tensor([], device='cuda:2')\n",
      "C: 16               | C: 16               |  0    |  0 | tensor([34], device='cuda:2')\n",
      "em: 1               | em: 0               |  0    |  0 | tensor([368], device='cuda:2')\n",
      "eter: 0             | eter: 0             |  1    |  2 | tensor([2357], device='cuda:2')\n",
      "ies: 0              | ies: 0              |  1    |  1 | tensor([444], device='cuda:2')\n",
      " in: 1              |  in: 2              |  0    |  0 | tensor([287], device='cuda:2')\n",
      " Delaware: 1        |  Delaware: 1        |  0    |  0 | tensor([19603], device='cuda:2')\n",
      " County: 0          |  County: 0          |  0    |  0 | tensor([3418], device='cuda:2')\n"
     ]
    }
   ],
   "source": [
    "skip_indices = []\n",
    "for i, (s1, s2, x1, x2) in enumerate(zip(slices, slices_2, xentoks, prob_xentoks)):\n",
    "    # Find the maximum length needed for both columns\n",
    "    max_len_1 = max(len(str(s)) for s in slices[1:])\n",
    "    max_len_2 = max(len(str(s)) for s in slices_2[1:])\n",
    "    # Left-align s1 and s2 and pad with spaces\n",
    "    s1_padded = f\"{s1:<{max_len_1}}\"\n",
    "    s2_padded = f\"{s2:<{max_len_2}}\"\n",
    "    print(f\"{s1_padded} | {s2_padded} | {model.detokenize(x1):<5} | {model.detokenize(x2)} | {model.tokenize(s1.split(':')[0]).input_ids[0]}\")\n"
   ]
  },
  {
   "cell_type": "code",
   "execution_count": null,
   "metadata": {},
   "outputs": [],
   "source": []
  }
 ],
 "metadata": {
  "kernelspec": {
   "display_name": "menv",
   "language": "python",
   "name": "python3"
  },
  "language_info": {
   "codemirror_mode": {
    "name": "ipython",
    "version": 3
   },
   "file_extension": ".py",
   "mimetype": "text/x-python",
   "name": "python",
   "nbconvert_exporter": "python",
   "pygments_lexer": "ipython3",
   "version": "3.10.12"
  }
 },
 "nbformat": 4,
 "nbformat_minor": 2
}
