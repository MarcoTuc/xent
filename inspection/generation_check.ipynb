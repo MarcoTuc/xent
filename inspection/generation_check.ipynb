{
 "cells": [
  {
   "cell_type": "code",
   "execution_count": 1,
   "metadata": {},
   "outputs": [],
   "source": [
    "%load_ext autoreload\n",
    "%autoreload 2\n",
    "import os\n",
    "os.chdir(\"../\")"
   ]
  },
  {
   "cell_type": "code",
   "execution_count": 2,
   "metadata": {},
   "outputs": [],
   "source": [
    "from tqdm import tqdm\n",
    "\n",
    "from xent.tasks import Closure\n",
    "from xent.models import M\n",
    "from xent.lang import X\n",
    "from xent.dataprocessing import Wikipedia, SkeinAdventures\n",
    "from xent.config import *"
   ]
  },
  {
   "cell_type": "code",
   "execution_count": 3,
   "metadata": {},
   "outputs": [
    {
     "data": {
      "application/vnd.jupyter.widget-view+json": {
       "model_id": "928e15348e6b4ec79b2820d01119bf79",
       "version_major": 2,
       "version_minor": 0
      },
      "text/plain": [
       "Loading dataset shards:   0%|          | 0/41 [00:00<?, ?it/s]"
      ]
     },
     "metadata": {},
     "output_type": "display_data"
    }
   ],
   "source": [
    "import os\n",
    "home_dir = os.path.expanduser(\"~\")\n",
    "work_dir = os.path.join(home_dir, \"synth\")\n",
    "from tqdm import tqdm\n",
    "\n",
    "import torch\n",
    "\n",
    "from xent.config import *\n",
    "from xent.tasks import Closure\n",
    "from xent.models import M\n",
    "from xent.dataprocessing import Wikipedia, DataProcessor\n",
    "\n",
    "task_name = \"closure\"\n",
    "data_name = \"D0-correct\"\n",
    "n_samples = 100\n",
    "save_truncate = 100\n",
    "out_type= \"tokens\"\n",
    "\n",
    "model_0 = M(\"gpt2\", \"M0\", base=\"base\") # load the base modelI\n",
    "datasource = Wikipedia()\n",
    "task_0 = Closure(model_0)\n"
   ]
  },
  {
   "cell_type": "code",
   "execution_count": 33,
   "metadata": {},
   "outputs": [
    {
     "name": "stdout",
     "output_type": "stream",
     "text": [
      "torch.Size([1, 1021])\n"
     ]
    },
    {
     "data": {
      "text/plain": [
       "tensor([[ 3388,    11,  1248,  ..., 50256, 50256, 50256]], device='cuda:1')"
      ]
     },
     "execution_count": 33,
     "metadata": {},
     "output_type": "execute_result"
    }
   ],
   "source": [
    "data = task_0.dataset_synthesizer(datasource.get_random_article_text, 1, out_type=\"tokens\")()\n",
    "model_0.pad(data)"
   ]
  },
  {
   "cell_type": "code",
   "execution_count": 5,
   "metadata": {},
   "outputs": [],
   "source": [
    "x, l = task_0.find_xstring(data, X.xreturn, return_len=True)\n",
    "cut = x + l + 1"
   ]
  },
  {
   "cell_type": "code",
   "execution_count": 6,
   "metadata": {},
   "outputs": [
    {
     "name": "stdout",
     "output_type": "stream",
     "text": [
      ":\n"
     ]
    }
   ],
   "source": [
    "print(model_0.detokenize(data[0, cut+1:][64]))"
   ]
  }
 ],
 "metadata": {
  "kernelspec": {
   "display_name": "menv",
   "language": "python",
   "name": "python3"
  },
  "language_info": {
   "codemirror_mode": {
    "name": "ipython",
    "version": 3
   },
   "file_extension": ".py",
   "mimetype": "text/x-python",
   "name": "python",
   "nbconvert_exporter": "python",
   "pygments_lexer": "ipython3",
   "version": "3.10.12"
  }
 },
 "nbformat": 4,
 "nbformat_minor": 2
}
