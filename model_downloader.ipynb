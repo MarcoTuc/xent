{
 "cells": [
  {
   "cell_type": "markdown",
   "metadata": {},
   "source": [
    "#### HuggingFace datasets downloader"
   ]
  },
  {
   "cell_type": "code",
   "execution_count": 1,
   "metadata": {},
   "outputs": [
    {
     "name": "stderr",
     "output_type": "stream",
     "text": [
      "/home/tuccio/xent-futurarium/menv/lib/python3.10/site-packages/tqdm/auto.py:21: TqdmWarning: IProgress not found. Please update jupyter and ipywidgets. See https://ipywidgets.readthedocs.io/en/stable/user_install.html\n",
      "  from .autonotebook import tqdm as notebook_tqdm\n"
     ]
    }
   ],
   "source": [
    "from datasets import load_dataset\n",
    "dataset_repository = \"wikipedia\"\n",
    "file_to_download = \"20220301.en\"\n",
    "wikipedia = load_dataset(dataset_repository, file_to_download, trust_remote_code=True)"
   ]
  },
  {
   "cell_type": "markdown",
   "metadata": {},
   "source": [
    "#### Custom downloader and saving routine\n",
    "*For now only gpt2 but ready to try new models!*"
   ]
  },
  {
   "cell_type": "code",
   "execution_count": 4,
   "metadata": {},
   "outputs": [],
   "source": [
    "import os\n",
    "from transformers import AutoModelForCausalLM, AutoTokenizer\n",
    "\n",
    "models_dir = os.path.join(os.getcwd(), \"models\")\n",
    "\n",
    "model_name = \"gpt2\"\n",
    "model = AutoModelForCausalLM.from_pretrained(model_name)\n",
    "tokenizer = AutoTokenizer.from_pretrained(model_name, clean_up_tokenization_spaces=True)\n",
    "tokenizer.pad_token = tokenizer.eos_token\n",
    "model.config.pad_token_id = model.config.eos_token_id\n",
    "\n",
    "save_version = \"M0\"\n",
    "save_path = os.path.join(models_dir, \"base\", model_name, save_version)\n",
    "model.save_pretrained(save_path)\n",
    "tokenizer.save_pretrained(save_path)\n",
    "\n",
    "save_also_in_old = True\n",
    "if save_also_in_old:\n",
    "    save_old_path = os.path.join(os.getcwd(), \"highlighting\", \"models\", model_name, save_version)\n",
    "    model.save_pretrained(save_old_path)\n",
    "    tokenizer.save_pretrained(save_old_path)\n",
    "    \n",
    "\n",
    "### Loading example: \n",
    "# model = AutoModelForCausalLM.from_pretrained(save_path, local_files_only=True)\n",
    "# tokenizer = AutoTokenizer.from_pretrained(save_path, local_files_only=True)"
   ]
  },
  {
   "cell_type": "markdown",
   "metadata": {},
   "source": [
    "#### HuggingFace hub downloader"
   ]
  },
  {
   "cell_type": "code",
   "execution_count": null,
   "metadata": {},
   "outputs": [],
   "source": [
    "# from huggingface_hub import hf_hub_download\n",
    "\n",
    "# hf_hub_download(\n",
    "#     repo_id=\"QuantFactory/NemoMix-Unleashed-12B-GGUF\",  # Repo ID\n",
    "#     filename=\"NemoMix-Unleashed-12B.Q8_0.gguf\",         # File name or path if in a subfolder\n",
    "#     local_dir=\"models/hugging_face\"                                  # Local directory\n",
    "#     )"
   ]
  }
 ],
 "metadata": {
  "kernelspec": {
   "display_name": "menv",
   "language": "python",
   "name": "python3"
  },
  "language_info": {
   "codemirror_mode": {
    "name": "ipython",
    "version": 3
   },
   "file_extension": ".py",
   "mimetype": "text/x-python",
   "name": "python",
   "nbconvert_exporter": "python",
   "pygments_lexer": "ipython3",
   "version": "3.10.12"
  }
 },
 "nbformat": 4,
 "nbformat_minor": 2
}
