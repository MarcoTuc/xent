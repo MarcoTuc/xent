{
 "cells": [
  {
   "cell_type": "code",
   "execution_count": 1,
   "metadata": {},
   "outputs": [],
   "source": [
    "import pickle\n",
    "from xent.dataprocessing import DataProcessor"
   ]
  },
  {
   "cell_type": "code",
   "execution_count": 2,
   "metadata": {},
   "outputs": [
    {
     "name": "stdout",
     "output_type": "stream",
     "text": [
      "Data loaded from data/closure/D0/closure_0_01.pkl\n",
      "Type of loaded data: <class 'torch.Tensor'>\n",
      "number of datapoints: 200\n",
      "torch.Size([200, 1024])\n"
     ]
    }
   ],
   "source": [
    "# Define the path to the pickle file\n",
    "path = \"data/closure/D0/closure_0_01.pkl\"\n",
    "\n",
    "# Read the pickle file\n",
    "with open(path, \"rb\") as file:\n",
    "    data = pickle.load(file)\n",
    "\n",
    "# Now 'data' contains the contents of the pickle file\n",
    "# You can process or use this data as needed\n",
    "print(f\"Data loaded from {path}\")\n",
    "print(f\"Type of loaded data: {type(data)}\")\n",
    "print(f\"number of datapoints: {len(data)}\")\n",
    "print(data.shape)"
   ]
  },
  {
   "cell_type": "code",
   "execution_count": 3,
   "metadata": {},
   "outputs": [],
   "source": [
    "from xent.tasks import Closure\n",
    "from xent.models import M\n",
    "from xent.lang import X\n",
    "from xent.dataprocessing import Wikipedia\n",
    "text = \"Last year I went snorkeling and below water I saw a lot of fish but also 12 airplanes.\"\n",
    "model = M(\"gpt2\", \"M0\")"
   ]
  },
  {
   "cell_type": "code",
   "execution_count": 4,
   "metadata": {},
   "outputs": [
    {
     "name": "stdout",
     "output_type": "stream",
     "text": [
      "The 1900 Navy Midshipmen football team represented the United States Naval Academy during the 1900 college football season. Under first-year head coach Garrett Cochran, the team compiled a 6–3 record, outscored its opponents 106 to 51, and shut out five of its nine opponents.\n",
      "\n",
      "Schedule\n",
      "\n",
      "References\n",
      "\n",
      "Navy\n",
      "Navy Midshipmen football seasons\n",
      "Navy Midshipmen football\n",
      "@##$$##@ closure(())>:ç%ç>:\n",
      " 1900: 12\n",
      " Navy: 10\n",
      " M: 6\n",
      "ids: 4\n",
      "hip: 0\n",
      "men: 0\n",
      " football: 11\n",
      " team: 0\n",
      " represented: 8\n",
      " the: 1\n",
      " United: 2\n",
      " States: 0\n",
      " Naval: 4\n",
      " Academy: 0\n",
      " during: 3\n",
      " the: 1\n",
      " 1900: 4\n",
      " college: 6\n",
      " football: 0\n",
      " season: 0\n",
      ".: 0\n",
      " Under: 6\n",
      " first: 5\n",
      "-: 1\n",
      "year: 0\n",
      " head: 3\n",
      " coach: 0\n",
      " Garrett: 8\n",
      " Coch: 8\n",
      "ran: 0\n",
      ",: 0\n",
      " the: 0\n",
      " team: 2\n",
      " compiled: 7\n",
      " a: 1\n",
      " 6: 4\n",
      "–: 5\n",
      "3: 2\n",
      " record: 0\n",
      ",: 1\n",
      " out: 7\n",
      "sc: 3\n",
      "ored: 0\n",
      " its: 1\n",
      " opponents: 1\n",
      " 106: 7\n",
      " to: 3\n",
      " 51: 5\n",
      ",: 1\n",
      " and: 1\n",
      " shut: 7\n",
      " out: 1\n",
      " five: 6\n",
      " of: 2\n",
      " its: 1\n",
      " nine: 4\n",
      " opponents: 0\n",
      ".: 1\n",
      "\n",
      ": 1\n",
      "\n",
      ": 0\n",
      "Sche: 10\n",
      "dule: 1\n",
      "\n",
      ": 1\n",
      "\n",
      ": 0\n",
      "References: 9\n",
      "\n",
      ": 1\n",
      "\n",
      ": 0\n",
      "N: 5\n",
      "avy: 1\n",
      "\n",
      ": 3\n",
      "N: 19\n",
      "avy: 0\n",
      " M: 4\n",
      "ids: 0\n",
      "hip: 0\n",
      "men: 0\n",
      " football: 3\n",
      " seasons: 8\n",
      "\n",
      ": 3\n",
      "N: 19\n",
      "avy: 0\n",
      " M: 1\n",
      "ids: 0\n",
      "hip: 0\n",
      "men: 0\n",
      " football: 1\n",
      "\n"
     ]
    }
   ],
   "source": [
    "detoken = data[0]\n",
    "print(model.detokenize(detoken, mode=\"tensor\"))"
   ]
  }
 ],
 "metadata": {
  "kernelspec": {
   "display_name": "menv",
   "language": "python",
   "name": "python3"
  },
  "language_info": {
   "codemirror_mode": {
    "name": "ipython",
    "version": 3
   },
   "file_extension": ".py",
   "mimetype": "text/x-python",
   "name": "python",
   "nbconvert_exporter": "python",
   "pygments_lexer": "ipython3",
   "version": "3.12.4"
  }
 },
 "nbformat": 4,
 "nbformat_minor": 2
}
